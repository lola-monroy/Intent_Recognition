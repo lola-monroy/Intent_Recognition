{
 "cells": [
  {
   "cell_type": "markdown",
   "metadata": {
    "id": "fWeisQHVRdqk"
   },
   "source": [
    "<center>\n",
    "<h1 style=\"font-family:verdana\">\n",
    " 💻 🧑 Classificació d'intencions 🧑 💻\n"
   ]
  },
  {
   "cell_type": "markdown",
   "metadata": {},
   "source": [
    "### REGULARITZÓ\n",
    "\n",
    "El que vam fer aquí va ser configurar valors de Dropout en un rang de 0,2 a 0,6. A cada iteració, es crea un model amb una capa GRU de 64 unitats, seguida d'una capa Dropout amb el valor de Dropout variable, i se n'avalua la precisió en el conjunt de prova.\n"
   ]
  },
  {
   "cell_type": "code",
   "execution_count": null,
   "metadata": {
    "id": "KQ5ViCr82quX"
   },
   "outputs": [
    {
     "name": "stderr",
     "output_type": "stream",
     "text": [
      "[nltk_data] Downloading package wordnet to C:\\Users\\Lola Monroy\n",
      "[nltk_data]     Mir\\AppData\\Roaming\\nltk_data...\n",
      "[nltk_data]   Package wordnet is already up-to-date!\n",
      "[nltk_data] Downloading package omw-1.4 to C:\\Users\\Lola Monroy\n",
      "[nltk_data]     Mir\\AppData\\Roaming\\nltk_data...\n",
      "[nltk_data]   Package omw-1.4 is already up-to-date!\n"
     ]
    },
    {
     "data": {
      "text/plain": [
       "True"
      ]
     },
     "execution_count": 121,
     "metadata": {},
     "output_type": "execute_result"
    }
   ],
   "source": [
    "import random\n",
    "import pandas as pd\n",
    "import numpy as np\n",
    "import tensorflow as tf\n",
    "import matplotlib.pyplot as plt\n",
    "from keras.utils import to_categorical\n",
    "from keras.models import Sequential\n",
    "from keras.layers import Embedding, LSTM, Dense, GlobalMaxPooling1D, Dropout, Conv1D, GlobalAveragePooling1D, LayerNormalization #Remove\n",
    "from sklearn.preprocessing import LabelEncoder\n",
    "from tensorflow.keras.preprocessing.text import Tokenizer\n",
    "from tensorflow.keras.preprocessing.sequence import pad_sequences\n",
    "import nltk\n",
    "from nltk.stem import WordNetLemmatizer\n",
    "from nltk.stem import PorterStemmer\n",
    "from keras.layers import Dense, Activation, Conv1D, MaxPooling1D, Flatten\n",
    "from keras.optimizers import Adam\n",
    "from sklearn.metrics import classification_report\n",
    "from tensorflow.keras.layers import Bidirectional, GRU, LSTM, SimpleRNN\n",
    "\n",
    "\n",
    "\n",
    "# Descargamos los recursos necesarios para la lematización\n",
    "nltk.download('wordnet')\n",
    "nltk.download('omw-1.4')"
   ]
  },
  {
   "cell_type": "markdown",
   "metadata": {
    "id": "Q52qMS2g2X7f"
   },
   "source": [
    "<h1><a name=\"section-one\"> 1. Inspecció del conjunt de dades </a></h1>"
   ]
  },
  {
   "cell_type": "markdown",
   "metadata": {
    "id": "L8P5b9k82vcy"
   },
   "source": [
    "A la carpeta `data` tenim els diferents fitxers CSV que utilitzarem per a aquesta pràctica.\n",
    "\n",
    "En primer lloc, llegirem les dades dels fitxers CSV amb `pandas`."
   ]
  },
  {
   "cell_type": "code",
   "execution_count": 122,
   "metadata": {
    "colab": {
     "base_uri": "https://localhost:8080/"
    },
    "id": "KsBfmAPsnn6n",
    "outputId": "ca09836d-05f1-4be4-f5da-b92d410b8585"
   },
   "outputs": [],
   "source": [
    "train_data = pd.read_csv('./data/train.csv', header=None) # la última columna té la intenció de cada frase (1a columna)\n",
    "val_data = train_data.tail(900) # Partim una part del train per tenir validation partition\n",
    "train_data = pd.read_csv('./data/train.csv', header=None, nrows=4078)\n",
    "test_data = pd.read_csv('./data/test.csv', header=None)"
   ]
  },
  {
   "cell_type": "code",
   "execution_count": 123,
   "metadata": {},
   "outputs": [],
   "source": [
    "random_number = random.randint(0, len(train_data)-1)\n",
    "\n",
    "train_sentences = list(train_data[0]) # primera columna del dataset, té la frase del usuari\n",
    "train_labels = list(s.replace('\"', '') for s in train_data[2]) \n",
    "train_labels = list(s.replace(' ', '') for s in train_labels)"
   ]
  },
  {
   "cell_type": "code",
   "execution_count": 124,
   "metadata": {},
   "outputs": [
    {
     "name": "stdout",
     "output_type": "stream",
     "text": [
      "Label 0: airport\n",
      "Label 1: airfare\n",
      "Label 2: flight_no\n",
      "Label 3: flight_time\n",
      "Label 4: meal\n",
      "Label 5: abbreviation\n",
      "Label 6: restriction\n",
      "Label 7: cheapest\n",
      "Label 8: distance\n",
      "Label 9: capacity\n",
      "Label 10: ground_service+ground_fare\n",
      "Label 11: airfare+flight_time\n",
      "Label 12: airline\n",
      "Label 13: airline+flight_no\n",
      "Label 14: aircraft\n",
      "Label 15: flight\n",
      "Label 16: aircraft+flight+flight_no\n",
      "Label 17: quantity\n",
      "Label 18: ground_service\n",
      "Label 19: flight+airfare\n",
      "Label 20: city\n",
      "Label 21: ground_fare\n"
     ]
    }
   ],
   "source": [
    "num_labels = 0  # Les labels son les possibles intencions del usuari\n",
    "for label in set(train_labels):\n",
    "  print(f'Label {num_labels}:', label.split('.')[-1])\n",
    "  num_labels += 1"
   ]
  },
  {
   "cell_type": "markdown",
   "metadata": {
    "id": "hsjk95_B4pXY"
   },
   "source": [
    "<h1><a name=\"section-two\"> 2. Preprocessament de dades </a></h1>"
   ]
  },
  {
   "cell_type": "code",
   "execution_count": null,
   "metadata": {},
   "outputs": [],
   "source": [
    "num_words=1000 # MOD"
   ]
  },
  {
   "cell_type": "code",
   "execution_count": 126,
   "metadata": {},
   "outputs": [],
   "source": [
    "# Convertimos todas las frases a minúsculas\n",
    "train_sentences_lower = [sentence.lower() for sentence in train_sentences]  # MOD"
   ]
  },
  {
   "cell_type": "code",
   "execution_count": 127,
   "metadata": {
    "id": "zbAD9luKn1X3",
    "outputId": "ffe4bd28-075e-499d-d562-384f1da4f382"
   },
   "outputs": [
    {
     "name": "stdout",
     "output_type": "stream",
     "text": [
      "{'to': 1, 'from': 2, 'flights': 3, 'the': 4, 'on': 5, 'what': 6, 'me': 7, 'flight': 8, 'boston': 9, 'show': 10, 'san': 11, 'i': 12, 'denver': 13, 'a': 14, 'francisco': 15, 'in': 16, 'and': 17, 'atlanta': 18, 'pittsburgh': 19, 'is': 20, 'dallas': 21, 'baltimore': 22, 'all': 23, 'philadelphia': 24, 'like': 25, 'are': 26, 'list': 27, 'airlines': 28, 'of': 29, 'between': 30, 'that': 31, 'washington': 32, 'leaving': 33, 'please': 34, 'pm': 35, 'morning': 36, 'would': 37, 'fly': 38, 'for': 39, 'fare': 40, 'first': 41, 'wednesday': 42, 'after': 43, 'there': 44, 'oakland': 45, \"'d\": 46, 'ground': 47, 'you': 48, 'does': 49, 'trip': 50, 'transportation': 51, 'class': 52, 'arriving': 53, 'cheapest': 54, 'need': 55, 'city': 56, 'round': 57, 'with': 58, 'before': 59, 'which': 60, 'available': 61, 'have': 62, 'give': 63, 'at': 64, 'fares': 65, 'american': 66, 'afternoon': 67, 'one': 68, 'want': 69, 'how': 70, 'way': 71, 'new': 72, 'dc': 73, 'nonstop': 74, 'arrive': 75, 'earliest': 76, 'york': 77, 'go': 78, 'monday': 79, 'thursday': 80, 'leave': 81, 'tuesday': 82, 'united': 83, 'am': 84, 'airport': 85, 'information': 86, 'st': 87, 'find': 88, 'evening': 89, 'sunday': 90, 'can': 91, 'milwaukee': 92, 'delta': 93, 'twenty': 94, 'miami': 95, 'noon': 96, 'las': 97, 'vegas': 98, 'charlotte': 99, 'chicago': 100, 'newark': 101, 'any': 102, 'phoenix': 103, \"o'clock\": 104, 'diego': 105, \"'s\": 106, 'august': 107, 'saturday': 108, 'continental': 109, 'do': 110, 'stop': 111, 'friday': 112, 'us': 113, 'air': 114, 'orlando': 115, 'next': 116, 'seventh': 117, 'july': 118, 'airline': 119, 'tell': 120, 'kansas': 121, 'seattle': 122, '5': 123, 'houston': 124, 'toronto': 125, 'or': 126, 'early': 127, 'indianapolis': 128, 'fort': 129, 'worth': 130, 'code': 131, 'aircraft': 132, 'latest': 133, 'cost': 134, 'tomorrow': 135, 'downtown': 136, 'cleveland': 137, 'los': 138, 'angeles': 139, 'many': 140, 'salt': 141, 'lake': 142, 'stopover': 143, 'around': 144, 'going': 145, '6': 146, 'by': 147, 'see': 148, '12': 149, '10': 150, 'an': 151, 'about': 152, 'dollars': 153, '8': 154, 'june': 155, 'may': 156, 'memphis': 157, 'montreal': 158, 'type': 159, 'twa': 160, 'petersburg': 161, 'get': 162, '7': 163, 'much': 164, 'jose': 165, 'leaves': 166, 'than': 167, 'minneapolis': 168, 'expensive': 169, \"'m\": 170, 'ticket': 171, 'tacoma': 172, 'could': 173, 'mean': 174, 'tampa': 175, 'nashville': 176, 'departing': 177, 'travel': 178, 'international': 179, 'time': 180, 'service': 181, 'long': 182, 'louis': 183, 'cincinnati': 184, 'less': 185, 'depart': 186, 'detroit': 187, 'meal': 188, 'into': 189, 'daily': 190, 'columbus': 191, 'know': 192, 'least': 193, 'okay': 194, 'economy': 195, 'it': 196, 'beach': 197, 'november': 198, 'coach': 199, 'last': 200, 'night': 201, 'paul': 202, 'book': 203, 'california': 204, 'used': 205, 'serves': 206, '4': 207, 'second': 208, 'day': 209, 'northwest': 210, 'return': 211, 'kind': 212, 'lowest': 213, 'december': 214, 'love': 215, 'field': 216, '1000': 217, 'serve': 218, 'make': 219, 'general': 220, 'mitchell': 221, 'now': 222, 'september': 223, 'schedule': 224, 'third': 225, 'be': 226, 'breakfast': 227, '2': 228, 'direct': 229, 'arrives': 230, 'stops': 231, '9': 232, 'flying': 233, 'number': 234, 'times': 235, 'goes': 236, 'stopping': 237, 'la': 238, 'looking': 239, 'possible': 240, 'burbank': 241, 'served': 242, 'dl': 243, 'as': 244, 'week': 245, 'airports': 246, 'take': 247, 'cities': 248, 'also': 249, 'eighth': 250, 'connecting': 251, 'this': 252, 'fifth': 253, 'fourth': 254, 'eastern': 255, '1991': 256, 'business': 257, 'ontario': 258, 'has': 259, 'most': 260, 'out': 261, 'car': 262, 'interested': 263, 'restriction': 264, 'ua': 265, 'april': 266, 'back': 267, 'two': 268, 'fifteenth': 269, 'same': 270, 'stand': 271, 'twentieth': 272, 'flies': 273, 'through': 274, 'late': 275, 'price': 276, 'ninth': 277, 'westchester': 278, 'via': 279, 'wednesdays': 280, 'prices': 281, 'using': 282, 'will': 283, 'airfare': 284, 'returning': 285, 'display': 286, 'plane': 287, 'ap': 288, '3': 289, 'arrangements': 290, 'your': 291, 'limousine': 292, 'sixth': 293, 'then': 294, 'only': 295, 'county': 296, 'listing': 297, 'bwi': 298, 'florida': 299, 'today': 300, 'dinner': 301, 'october': 302, 'other': 303, 'under': 304, 'types': 305, 'smallest': 306, 'eleventh': 307, 'tenth': 308, 'guardia': 309, 'thirtieth': 310, '1': 311, 'lunch': 312, 'tickets': 313, 'qx': 314, 'rental': 315, 'where': 316, 'canadian': 317, 'classes': 318, 'f': 319, 'jersey': 320, 'twelfth': 321, 'makes': 322, 'should': 323, 'airplane': 324, 'colorado': 325, 'either': 326, 'north': 327, 'carolina': 328, 'live': 329, 'h': 330, 'shortest': 331, 'midwest': 332, 'express': 333, 'capacity': 334, 'fourteenth': 335, 'meals': 336, 'again': 337, 'hi': 338, '57': 339, 'y': 340, 'but': 341, 'weekday': 342, 'people': 343, 'planes': 344, 'mco': 345, 'march': 346, 'no': 347, 'sixteenth': 348, 'nineteenth': 349, 'seating': 350, 'thirty': 351, 'seventeenth': 352, 'layover': 353, 'if': 354, 'yn': 355, 'my': 356, 'transport': 357, '11': 358, 'explain': 359, 'january': 360, 'when': 361, 'use': 362, 'traveling': 363, 'right': 364, 'some': 365, 'far': 366, 'both': 367, 'booking': 368, 'q': 369, 'serving': 370, 'thank': 371, 'during': 372, 'offer': 373, 'logan': 374, 'boeing': 375, 'sfo': 376, 'trying': 377, \"'re\": 378, '466': 379, 'each': 380, '1100': 381, 'abbreviation': 382, 'landings': 383, 'hp': 384, 'over': 385, 'february': 386, 'arrival': 387, 'numbers': 388, 'arrange': 389, 'coming': 390, 'distance': 391, 'midnight': 392, 'rent': 393, 'qw': 394, 'stopovers': 395, 'thrift': 396, 'ohio': 397, '530': 398, '630': 399, 'yes': 400, 'dfw': 401, 'canada': 402, 'let': 403, '281': 404, 'name': 405, 'takeoffs': 406, 'later': 407, 'uses': 408, 'lufthansa': 409, 'departure': 410, 'hours': 411, 'mornings': 412, 'codes': 413, 'sometime': 414, '838': 415, 'arrivals': 416, 'southwest': 417, 'area': 418, '230': 419, 'cheap': 420, '430': 421, 'nationair': 422, 'jfk': 423, 'days': 424, 'costs': 425, 'starting': 426, 'hello': 427, 'provided': 428, '1115': 429, '1245': 430, '1992': 431, 'ff': 432, 'total': 433, '747': 434, '718': 435, '2100': 436, 's': 437, 'making': 438, 'destination': 439, \"'ll\": 440, 'anywhere': 441, 'requesting': 442, 'kinds': 443, 'reservation': 444, 'america': 445, 'west': 446, 'sorry': 447, 'heading': 448, 'close': 449, 'f28': 450, 'minnesota': 451, 'their': 452, 'those': 453, 'seats': 454, 'pennsylvania': 455, 'saturdays': 456, 'sixteen': 457, 'eighteenth': 458, 'offers': 459, '80': 460, 'passengers': 461, 'fit': 462, 'rates': 463, 'sa': 464, 'land': 465, 'fn': 466, 'qo': 467, 'so': 468, '825': 469, 'help': 470, 'plan': 471, 'define': 472, 'tuesdays': 473, 'connect': 474, 'ea': 475, 'thursdays': 476, 'following': 477, 'more': 478, 'nw': 479, 'ewr': 480, 'noontime': 481, 'ten': 482, 'weekdays': 483, 'near': 484, 'dc10': 485, '934': 486, 'these': 487, 'include': 488, 'another': 489, 'departs': 490, '270': 491, '415': 492, '1110': 493, '755': 494, '720': 495, 'within': 496, 'c': 497, 'snack': 498, 'rate': 499, 'sure': 500, \"'t\": 501, 'rentals': 502, '100': 503, 'abbreviations': 504, '852': 505, 'approximately': 506, 'say': 507, 'wish': 508, 'difference': 509, '737': 510, 'highest': 511, 'connection': 512, '1700': 513, 'ord': 514, '813': 515, '2134': 516, 'maximum': 517, 'choices': 518, 'database': 519, '1765': 520, 'soon': 521, 'eight': 522, 'up': 523, 'departures': 524, 'quebec': 525, 'originate': 526, 'm80': 527, 'm': 528, '72s': 529, 'cp': 530, 'carries': 531, 'co': 532, 'here': 533, 'services': 534, 'taxi': 535, '555': 536, '201': 537, 'six': 538, 'connections': 539, 'philly': 540, 'located': 541, 'ap57': 542, 'dinnertime': 543, '1039': 544, 'lastest': 545, 'amount': 546, '21': 547, 'they': 548, 'just': 549, 'limo': 550, 'describe': 551, 'originating': 552, 'stapleton': 553, 'who': 554, '343': 555, 'options': 556, '1145': 557, 'schedules': 558, 'tennessee': 559, 'without': 560, 'landing': 561, 'midway': 562, '217': 563, 'bound': 564, 'different': 565, '296': 566, '324': 567, 'michigan': 568, 'train': 569, 'well': 570, 'along': 571, 'friends': 572, 'thirteenth': 573, 'transcontinental': 574, 'missouri': 575, 'utah': 576, 'cars': 577, 'dulles': 578, 'reservations': 579, 'lives': 580, '767': 581, '269': 582, 'turboprop': 583, 'sundays': 584, '757': 585, 'meaning': 586, 'taking': 587, 'proper': 588, 'beginning': 589, 'being': 590, '329': 591, '352': 592, 'don': 593, 'serviced': 594, '1024': 595, 'such': 596, 'wanted': 597, '615': 598, 'mealtime': 599, 'provides': 600, 'prefer': 601, '1288': 602, 'four': 603, '257': 604, 'across': 605, 'continent': 606, 'overnight': 607, 'trips': 608, 'local': 609, 'route': 610, '746': 611, 'represented': 612, 'trans': 613, 'world': 614, '1030': 615, '1130': 616, 'discount': 617, 'tower': 618, '2153': 619, 'thereafter': 620, '71': 621, 'supper': 622, 'bna': 623, '106': 624, 'd9s': 625, 'afterwards': 626, '345': 627, '19': 628, '82': 629, '139': 630, 'repeating': 631, '420': 632, 'look': 633, 'regarding': 634, 'nights': 635, 'seven': 636, 'restrictions': 637, '416': 638, 'kindly': 639, 'limousines': 640, 'place': 641, 'includes': 642, '1026': 643, '124': 644, 'fifteen': 645, 'oh': 646, 'year': 647, 'including': 648, 'o': 649, \"'hare\": 650, '815': 651, '928': 652, 'bur': 653, '315': 654, '1291': 655, 'longest': 656, '1222': 657, 'grounds': 658, '200': 659, 'must': 660, 'operation': 661, 'd': 662, '297': 663, 'question': 664, 'texas': 665, 'laying': 666, '650': 667, 'tonight': 668, '3724': 669, 'ls': 670, '210': 671, '1600': 672, 'inform': 673, 'k': 674, '932': 675, 'nonstops': 676, 'aa': 677, '459': 678, 'calling': 679, 'designate': 680, 'spend': 681, 'hou': 682, '1220': 683, 'directly': 684, 'reverse': 685, 'b': 686, 'belong': 687, '445': 688, '515': 689, '150': 690, '110': 691, 'connects': 692, 'charges': 693, 'minimum': 694, 'intercontinental': 695, '727': 696, 'takeoff': 697, 'seat': 698, 'final': 699, 'capacities': 700, '823': 701, '1059': 702, '271': 703, 'alaska': 704, 'able': 705, 'put': 706, 'locate': 707, 'hartfield': 708, 'scheduled': 709, '225': 710, '1158': 711, 'equipment': 712, 'begins': 713, 'lands': 714, 'reaches': 715, 'carried': 716, 'indiana': 717, 'try': 718, '130': 719, 'arizona': 720, 'continuing': 721, 'lester': 722, 'pearson': 723, 'everywhere': 724, '73s': 725, 'whether': 726, 'offered': 727, 'we': 728, 'usa': 729, 'red': 730, 'eye': 731, '1045': 732, 'georgia': 733, 'currently': 734, 'visit': 735, 'them': 736, '55': 737, 'determine': 738, 'thing': 739, '705': 740, 'fridays': 741, 'catch': 742, 'straight': 743, 'planning': 744, 'listed': 745, '1055': 746, '405': 747, 'equal': 748, 'ac': 749, 'provide': 750, 'hopefully': 751, 'symbols': 752, 'sort': 753, 'cover': 754, '810': 755, 'operating': 756, '1205': 757, 'mondays': 758, '733': 759, 'atl': 760, 'besides': 761, 'too': 762, 'month': 763, \"'ve\": 764, 'got': 765, 'somebody': 766, 'else': 767, 'wants': 768, 'level': 769, 'vicinity': 770, '311': 771, 'mia': 772, 'instead': 773, 'repeat': 774, 'eleven': 775, 'off': 776, 'greatest': 777, 'summer': 778, '300': 779, 'lax': 780, 'economic': 781, 'bay': 782, '402': 783, '845': 784, 'j31': 785, 'date': 786, '1020': 787, '730': 788, '400': 789, 'doesn': 790, '1993': 791, 'toward': 792, 'home': 793, '1850': 794, '1505': 795, 'runs': 796, 'stands': 797, '723': 798, 'thanks': 799, 'bring': 800, 'zone': 801, 'yyz': 802, 'airplanes': 803, 'non': 804, 'buy': 805, '500': 806, 'airfares': 807, 'come': 808, '428': 809, '98': 810, 'qualify': 811, '279': 812, '137338': 813, 'd10': 814, '539': 815, 'fine': 816, 'while': 817, '1200': 818, 'ap80': 819, 'concerning': 820, 'iah': 821, '1230': 822, 'still': 823, 'preferably': 824, 'itinerary': 825, '3357': 826, '323': 827, '229': 828, 'inexpensive': 829, 'actually': 830}\n",
      "830\n"
     ]
    }
   ],
   "source": [
    "tokenizer = Tokenizer(num_words) \n",
    "tokenizer.fit_on_texts(train_sentences)\n",
    "\n",
    "# Tokenitzem perquè cal codificar en int les paraules\n",
    "vocab = tokenizer.word_index\n",
    "print(vocab)  # Ens queden les consultes del usuari tokenitzades així podem utilitzar els tokens per buscar INTENT\n",
    "print(len(vocab))"
   ]
  },
  {
   "cell_type": "code",
   "execution_count": 128,
   "metadata": {},
   "outputs": [
    {
     "name": "stdout",
     "output_type": "stream",
     "text": [
      "{'to': 1, 'from': 2, 'flight': 3, 'the': 4, 'on': 5, 'what': 6, 'me': 7, 'boston': 8, 'show': 9, 'san': 10, 'i': 11, 'denver': 12, 'a': 13, 'francisco': 14, 'in': 15, 'and': 16, 'atlanta': 17, 'pittsburgh': 18, 'is': 19, 'dalla': 20, 'baltimor': 21, 'all': 22, 'philadelphia': 23, 'airlin': 24, 'leav': 25, 'like': 26, 'are': 27, 'list': 28, 'fare': 29, 'arriv': 30, 'of': 31, 'between': 32, 'that': 33, 'washington': 34, 'fli': 35, 'pleas': 36, 'morn': 37, 'pm': 38, 'would': 39, 'for': 40, 'wednesday': 41, 'first': 42, 'after': 43, 'there': 44, 'oakland': 45, \"'d\": 46, 'citi': 47, 'ground': 48, 'you': 49, 'transport': 50, 'doe': 51, 'class': 52, 'trip': 53, 'go': 54, 'cheapest': 55, 'need': 56, 'round': 57, 'with': 58, 'befor': 59, 'which': 60, 'avail': 61, 'have': 62, 'give': 63, 'at': 64, 'american': 65, 'afternoon': 66, 'one': 67, 'want': 68, 'airport': 69, 'how': 70, 'way': 71, 'new': 72, 'nonstop': 73, 'dc': 74, 'thursday': 75, 'stop': 76, 'tuesday': 77, 'monday': 78, 'earliest': 79, 'york': 80, 'unit': 81, 'am': 82, 'inform': 83, 'la': 84, 'st': 85, 'find': 86, 'sunday': 87, 'even': 88, 'can': 89, 'milwauke': 90, 'delta': 91, 'twenti': 92, 'miami': 93, 'noon': 94, 'vega': 95, 'charlott': 96, 'chicago': 97, 'newark': 98, 'ani': 99, 'phoenix': 100, 'saturday': 101, \"o'clock\": 102, 'diego': 103, \"'s\": 104, 'august': 105, 'continent': 106, 'do': 107, 'serv': 108, 'friday': 109, 'depart': 110, 'us': 111, 'air': 112, 'orlando': 113, 'next': 114, 'seventh': 115, 'juli': 116, 'tell': 117, 'kansa': 118, 'seattl': 119, '5': 120, 'houston': 121, 'toronto': 122, 'or': 123, 'code': 124, 'earli': 125, 'indianapoli': 126, 'fort': 127, 'worth': 128, 'cost': 129, 'aircraft': 130, 'latest': 131, 'stopov': 132, 'tomorrow': 133, 'downtown': 134, 'time': 135, 'cleveland': 136, 'lo': 137, 'angel': 138, 'mani': 139, 'use': 140, 'salt': 141, 'lake': 142, 'type': 143, 'around': 144, '6': 145, 'ticket': 146, 'by': 147, 'see': 148, '12': 149, '10': 150, 'an': 151, 'about': 152, 'dollar': 153, '8': 154, 'june': 155, 'may': 156, 'travel': 157, 'memphi': 158, 'montreal': 159, 'twa': 160, 'petersburg': 161, 'get': 162, '7': 163, 'much': 164, 'jose': 165, 'than': 166, 'minneapoli': 167, 'expens': 168, 'meal': 169, 'mean': 170, \"'m\": 171, 'return': 172, 'tacoma': 173, 'servic': 174, 'could': 175, 'tampa': 176, 'nashvil': 177, 'make': 178, 'intern': 179, 'long': 180, 'book': 181, 'loui': 182, 'cincinnati': 183, 'less': 184, 'detroit': 185, 'into': 186, 'daili': 187, 'columbu': 188, 'know': 189, 'least': 190, 'okay': 191, 'economi': 192, 'day': 193, 'it': 194, 'beach': 195, 'novemb': 196, 'night': 197, 'coach': 198, 'last': 199, 'paul': 200, 'price': 201, 'kind': 202, 'california': 203, '4': 204, 'second': 205, 'northwest': 206, 'number': 207, 'schedul': 208, 'connect': 209, 'lowest': 210, 'decemb': 211, 'be': 212, 'love': 213, 'field': 214, '1000': 215, 'gener': 216, 'mitchel': 217, 'now': 218, 'septemb': 219, 'third': 220, 'breakfast': 221, '2': 222, 'direct': 223, '9': 224, 'look': 225, 'plane': 226, 'goe': 227, 'take': 228, 'possibl': 229, 'burbank': 230, 'dl': 231, 'as': 232, 'week': 233, 'arrang': 234, 'car': 235, 'also': 236, 'eighth': 237, 'thi': 238, 'fifth': 239, 'fourth': 240, 'eastern': 241, '1991': 242, 'busi': 243, 'ontario': 244, 'restrict': 245, 'ha': 246, 'most': 247, 'out': 248, 'interest': 249, 'stand': 250, 'ua': 251, 'april': 252, 'back': 253, 'two': 254, 'fifteenth': 255, 'same': 256, 'twentieth': 257, 'through': 258, 'late': 259, 'airfar': 260, 'ninth': 261, 'westchest': 262, 'via': 263, 'will': 264, 'limousin': 265, 'display': 266, 'ap': 267, '3': 268, 'your': 269, 'sixth': 270, 'then': 271, 'onli': 272, 'rental': 273, 'counti': 274, 'land': 275, 'bwi': 276, 'florida': 277, 'today': 278, 'dinner': 279, 'seat': 280, 'octob': 281, 'other': 282, 'weekday': 283, 'live': 284, 'under': 285, 'smallest': 286, 'eleventh': 287, 'tenth': 288, 'offer': 289, 'guardia': 290, 'thirtieth': 291, '1': 292, 'lunch': 293, 'airplan': 294, 'qx': 295, 'where': 296, 'canadian': 297, 'capac': 298, 'f': 299, 'jersey': 300, 'twelfth': 301, 'should': 302, 'colorado': 303, 'either': 304, 'north': 305, 'carolina': 306, 'h': 307, 'shortest': 308, 'midwest': 309, 'express': 310, 'fourteenth': 311, 'abbrevi': 312, 'again': 313, 'hi': 314, '57': 315, 'y': 316, 'but': 317, 'peopl': 318, 'mco': 319, 'thank': 320, 'march': 321, 'no': 322, 'sixteenth': 323, 'nineteenth': 324, 'thirti': 325, 'seventeenth': 326, 'layov': 327, 'tri': 328, 'if': 329, 'yn': 330, 'my': 331, '11': 332, 'departur': 333, 'explain': 334, 'januari': 335, 'when': 336, 'right': 337, 'some': 338, 'far': 339, 'both': 340, 'come': 341, 'q': 342, 'dure': 343, 'logan': 344, 'provid': 345, 'boe': 346, 'sfo': 347, \"'re\": 348, '466': 349, 'each': 350, '1100': 351, 'takeoff': 352, 'hp': 353, 'over': 354, 'februari': 355, 'reserv': 356, 'distanc': 357, 'midnight': 358, 'rent': 359, 'qw': 360, 'rate': 361, 'thrift': 362, 'ohio': 363, '530': 364, '630': 365, 'ye': 366, 'dfw': 367, 'canada': 368, 'let': 369, '281': 370, 'name': 371, 'later': 372, 'includ': 373, 'lufthansa': 374, 'hour': 375, 'sometim': 376, '838': 377, 'southwest': 378, 'area': 379, '230': 380, 'cheap': 381, 'differ': 382, '430': 383, 'nationair': 384, 'jfk': 385, 'start': 386, 'hello': 387, 'origin': 388, '1115': 389, '1245': 390, '1992': 391, 'plan': 392, 'ff': 393, 'total': 394, '747': 395, '718': 396, '2100': 397, 's': 398, 'destin': 399, \"'ll\": 400, 'anywher': 401, 'request': 402, 'america': 403, 'west': 404, 'sorri': 405, 'head': 406, 'close': 407, 'f28': 408, 'minnesota': 409, 'their': 410, 'those': 411, 'pennsylvania': 412, 'sixteen': 413, 'eighteenth': 414, '80': 415, 'passeng': 416, 'fit': 417, 'sa': 418, 'fn': 419, 'carri': 420, 'qo': 421, 'so': 422, '825': 423, 'help': 424, 'defin': 425, 'ea': 426, 'locat': 427, 'follow': 428, 'more': 429, 'nw': 430, 'ewr': 431, 'noontim': 432, 'ten': 433, 'near': 434, 'dc10': 435, '934': 436, 'these': 437, 'anoth': 438, '270': 439, '415': 440, '1110': 441, '755': 442, '720': 443, 'within': 444, 'c': 445, 'snack': 446, 'begin': 447, 'sure': 448, \"'t\": 449, '100': 450, '852': 451, 'approxim': 452, 'say': 453, 'prefer': 454, 'wish': 455, '737': 456, 'highest': 457, '1700': 458, 'ord': 459, '813': 460, '2134': 461, 'maximum': 462, 'choic': 463, 'databas': 464, '1765': 465, 'soon': 466, 'eight': 467, 'up': 468, 'quebec': 469, 'repeat': 470, 'm80': 471, 'm': 472, '72': 473, 'cp': 474, 'co': 475, 'here': 476, 'taxi': 477, '555': 478, '201': 479, 'six': 480, 'philli': 481, 'ap57': 482, 'dinnertim': 483, '1039': 484, 'lastest': 485, 'amount': 486, '21': 487, 'they': 488, 'just': 489, 'oper': 490, 'limo': 491, 'describ': 492, 'stapleton': 493, 'who': 494, '343': 495, 'option': 496, '1145': 497, 'tennesse': 498, 'without': 499, 'midway': 500, '217': 501, 'bound': 502, '296': 503, '324': 504, 'michigan': 505, 'train': 506, 'well': 507, 'along': 508, 'friend': 509, 'thirteenth': 510, 'transcontinent': 511, 'missouri': 512, 'utah': 513, 'dull': 514, '767': 515, '269': 516, 'turboprop': 517, '757': 518, 'proper': 519, '329': 520, '352': 521, 'don': 522, '1024': 523, 'such': 524, '615': 525, 'mealtim': 526, '1288': 527, 'four': 528, '257': 529, 'across': 530, 'contin': 531, 'overnight': 532, 'local': 533, 'rout': 534, '746': 535, 'repres': 536, 'tran': 537, 'world': 538, '1030': 539, '1130': 540, 'discount': 541, 'tower': 542, '2153': 543, 'thereaft': 544, '71': 545, 'supper': 546, 'bna': 547, '106': 548, 'd9': 549, 'afterward': 550, '345': 551, '19': 552, '82': 553, '139': 554, '420': 555, 'regard': 556, 'seven': 557, '416': 558, 'kindli': 559, 'place': 560, '1026': 561, '124': 562, 'fifteen': 563, 'oh': 564, 'year': 565, 'o': 566, \"'hare\": 567, '815': 568, '928': 569, 'bur': 570, '315': 571, '1291': 572, 'longest': 573, '1222': 574, '200': 575, 'must': 576, 'd': 577, '297': 578, 'question': 579, 'texa': 580, 'lay': 581, '650': 582, 'tonight': 583, '3724': 584, 'ls': 585, '210': 586, '1600': 587, 'k': 588, '932': 589, 'aa': 590, '459': 591, 'call': 592, 'design': 593, 'spend': 594, 'hou': 595, '1220': 596, 'directli': 597, 'revers': 598, 'b': 599, 'belong': 600, '445': 601, '515': 602, '150': 603, '110': 604, 'charg': 605, 'minimum': 606, 'intercontinent': 607, '727': 608, 'final': 609, '823': 610, '1059': 611, '271': 612, 'alaska': 613, 'abl': 614, 'put': 615, 'hartfield': 616, '225': 617, '1158': 618, 'equip': 619, 'reach': 620, 'indiana': 621, '130': 622, 'arizona': 623, 'continu': 624, 'lester': 625, 'pearson': 626, 'everywher': 627, '73': 628, 'whether': 629, 'we': 630, 'usa': 631, 'red': 632, 'eye': 633, '1045': 634, 'georgia': 635, 'current': 636, 'visit': 637, 'them': 638, '55': 639, 'determin': 640, 'thing': 641, '705': 642, 'catch': 643, 'straight': 644, '1055': 645, '405': 646, 'equal': 647, 'ac': 648, 'hope': 649, 'symbol': 650, 'sort': 651, 'cover': 652, '810': 653, '1205': 654, '733': 655, 'atl': 656, 'besid': 657, 'too': 658, 'month': 659, \"'ve\": 660, 'got': 661, 'somebodi': 662, 'els': 663, 'level': 664, 'vicin': 665, '311': 666, 'mia': 667, 'instead': 668, 'eleven': 669, 'off': 670, 'greatest': 671, 'summer': 672, '300': 673, 'lax': 674, 'econom': 675, 'bay': 676, '402': 677, '845': 678, 'j31': 679, 'date': 680, '1020': 681, '730': 682, '400': 683, 'doesn': 684, '1993': 685, 'toward': 686, 'home': 687, '1850': 688, '1505': 689, 'run': 690, '723': 691, 'bring': 692, 'zone': 693, 'yyz': 694, 'non': 695, 'buy': 696, '500': 697, '428': 698, '98': 699, 'qualifi': 700, '279': 701, '137338': 702, 'd10': 703, '539': 704, 'fine': 705, 'while': 706, '1200': 707, 'ap80': 708, 'concern': 709, 'iah': 710, '1230': 711, 'still': 712, 'itinerari': 713, '3357': 714, '323': 715, '229': 716, 'inexpens': 717, 'actual': 718}\n",
      "718\n"
     ]
    }
   ],
   "source": [
    "stemmer = PorterStemmer()\n",
    "\n",
    "# Definir la función de stemming\n",
    "def stem_sentence(sentence):\n",
    "    words = nltk.word_tokenize(sentence)  # Tokenizar la oración\n",
    "    stemmed_words = [stemmer.stem(word) for word in words]  # Aplicar stemming\n",
    "    return \" \".join(stemmed_words)\n",
    "\n",
    "# Aplicar el stemming a todas las oraciones HE D'APLICAR AIXO PER TEST I TRAIN\n",
    "train_sentences_stem = [stem_sentence(sentence) for sentence in train_sentences]\n",
    "\n",
    "# Crear y ajustar el Tokenizer para las oraciones \"stemmed\"\n",
    "stem_tokenizer = Tokenizer(num_words)\n",
    "stem_tokenizer.fit_on_texts(train_sentences_stem)\n",
    "\n",
    "# Obtener el vocabulario del tokenizador con stemming\n",
    "stem_vocab = stem_tokenizer.word_index\n",
    "print(stem_vocab)\n",
    "print(len(stem_vocab))"
   ]
  },
  {
   "cell_type": "markdown",
   "metadata": {
    "id": "6hGwpkozALwY"
   },
   "source": [
    "---\n",
    "\n",
    " <h1><a name=\"ex-one\"><center> ✏ Exercici 1 ✏</a></h1>"
   ]
  },
  {
   "cell_type": "markdown",
   "metadata": {
    "id": "hWD1yHt6B5-v"
   },
   "source": [
    "Si ho heu fet correctament hauríeu d'obtenir això:\n",
    "\n",
    "```\n",
    "print(train_sentences[0])\n",
    "print(train_sequences[0])\n",
    "\n",
    "i want to fly from boston at 838 am and arrive in denver at 1110 in the morning\n",
    "[12, 69, 1, 38, 2, 9, 64, 415, 84, 17, 75, 16, 13, 64, 493, 16, 4, 36]\n",
    "```\n",
    "\n"
   ]
  },
  {
   "cell_type": "code",
   "execution_count": 129,
   "metadata": {},
   "outputs": [
    {
     "name": "stdout",
     "output_type": "stream",
     "text": [
      "i want to fli from boston at 838 am and arriv in denver at 1110 in the morn\n",
      "[11, 68, 1, 35, 2, 8, 64, 377, 82, 16, 30, 15, 12, 64, 441, 15, 4, 37]\n"
     ]
    }
   ],
   "source": [
    "train_sequences_stem = stem_tokenizer.texts_to_sequences(train_sentences_stem)\n",
    "\n",
    "print(train_sentences_stem[0])\n",
    "print(train_sequences_stem[0])"
   ]
  },
  {
   "cell_type": "markdown",
   "metadata": {
    "id": "o0XsJ2MBDN-C"
   },
   "source": [
    "---\n",
    "A continuació haurem d'aconseguir que totes les seqüències tinguen una longitud fixa. Per a fer això primer fixarem la longitud segons la longitud màxima trobada a les seqüències del conjunt d'entrenament. I a continuació omplirem (*pad*) les seqüències que tinguen una longitud menor.\n"
   ]
  },
  {
   "cell_type": "code",
   "execution_count": 130,
   "metadata": {},
   "outputs": [
    {
     "name": "stdout",
     "output_type": "stream",
     "text": [
      "Padded sequence:  [ 11  68   1  35   2   8  64 377  82  16  30  15  12  64 441  15   4  37\n",
      "   0   0   0   0   0   0   0   0   0   0   0   0   0   0   0   0   0   0\n",
      "   0   0   0   0   0   0   0   0   0]\n"
     ]
    }
   ],
   "source": [
    "# padding STEM\n",
    "max_sequence_length_stem = max(map(len, train_sequences_stem))\n",
    "train_pad_sequences_stem = pad_sequences(train_sequences_stem, maxlen=max_sequence_length_stem, padding='post')\n",
    "print('Padded sequence: ', train_pad_sequences_stem[0]) "
   ]
  },
  {
   "cell_type": "markdown",
   "metadata": {
    "id": "KjuIPHd7HNRY"
   },
   "source": [
    "---"
   ]
  },
  {
   "cell_type": "markdown",
   "metadata": {
    "id": "_l6lJA9mHj3j"
   },
   "source": [
    "### One-Hot Encoding"
   ]
  },
  {
   "cell_type": "code",
   "execution_count": 131,
   "metadata": {
    "id": "j8c6wt1Pb7fw"
   },
   "outputs": [
    {
     "name": "stdout",
     "output_type": "stream",
     "text": [
      "Original labels: ['flight', 'flight', 'flight_time', 'airfare', 'airfare', 'flight', 'aircraft', 'flight', 'flight', 'ground_service', 'flight', 'flight', 'airport', 'flight', 'flight', 'airfare', 'ground_service', 'flight', 'flight', 'flight', 'flight', 'flight', 'flight', 'aircraft', 'airfare', 'flight', 'airline', 'flight', 'ground_service', 'flight', 'airfare', 'flight', 'flight', 'flight', 'flight', 'airfare', 'airline', 'flight', 'flight', 'flight', 'distance', 'flight', 'airline', 'airline', 'flight', 'airline', 'ground_service', 'abbreviation', 'flight', 'flight', 'flight_time', 'flight', 'flight', 'ground_fare', 'flight', 'abbreviation', 'flight', 'flight', 'flight', 'flight', 'flight', 'airline', 'flight', 'ground_service', 'airline', 'flight', 'flight', 'airport', 'flight', 'flight', 'abbreviation', 'flight', 'flight', 'flight', 'flight', 'aircraft', 'airfare', 'flight', 'flight', 'flight', 'flight', 'flight', 'flight', 'flight', 'airline', 'flight', 'flight', 'flight', 'flight', 'flight', 'flight', 'flight', 'airfare', 'flight', 'distance', 'ground_service', 'quantity', 'flight', 'flight', 'flight', 'flight', 'flight', 'flight', 'flight', 'city', 'ground_fare', 'flight', 'ground_service', 'flight', 'flight', 'flight', 'flight', 'flight', 'flight', 'flight', 'flight', 'flight', 'flight', 'flight', 'flight', 'flight', 'ground_service', 'airline', 'flight', 'flight', 'flight', 'flight', 'flight', 'aircraft', 'flight', 'flight', 'flight', 'flight', 'flight', 'flight', 'flight', 'flight', 'flight', 'flight', 'airfare', 'ground_service', 'airfare', 'abbreviation', 'flight', 'airfare', 'ground_service', 'flight', 'flight', 'flight', 'flight', 'flight', 'flight', 'airfare', 'flight', 'flight', 'flight', 'flight', 'flight', 'flight', 'flight', 'flight', 'flight', 'flight', 'flight', 'flight', 'ground_service', 'flight', 'flight', 'airfare', 'flight', 'flight', 'flight', 'flight', 'flight', 'flight', 'flight', 'flight', 'flight', 'airfare', 'airfare', 'flight', 'flight', 'flight', 'flight', 'flight', 'flight', 'ground_service', 'flight', 'flight', 'ground_service', 'flight', 'flight', 'flight', 'flight', 'flight', 'flight', 'flight', 'flight', 'flight', 'flight', 'flight', 'flight', 'flight_time', 'ground_service', 'airline', 'quantity', 'flight', 'flight', 'flight', 'flight', 'airline', 'flight', 'flight', 'flight', 'flight', 'flight', 'ground_service', 'flight', 'flight', 'flight', 'flight', 'ground_service', 'flight', 'abbreviation', 'flight', 'flight', 'ground_service', 'flight', 'flight', 'airfare', 'flight', 'flight', 'flight', 'airfare', 'flight', 'flight', 'flight', 'flight', 'flight', 'flight', 'flight', 'flight', 'flight', 'flight', 'ground_service', 'flight', 'flight', 'airfare', 'flight', 'flight', 'flight', 'flight', 'flight', 'flight', 'flight', 'flight', 'flight', 'flight', 'airline', 'flight', 'flight', 'abbreviation', 'flight', 'flight', 'airfare', 'flight', 'flight', 'flight', 'flight', 'flight', 'flight', 'aircraft', 'abbreviation', 'flight', 'flight', 'airfare', 'flight', 'airline', 'flight', 'airline', 'flight', 'flight', 'flight', 'flight', 'flight', 'airfare', 'flight', 'flight', 'flight', 'flight', 'flight', 'flight', 'flight', 'flight', 'flight', 'flight', 'flight', 'flight', 'flight', 'flight', 'flight', 'flight', 'flight', 'flight', 'flight', 'flight', 'flight', 'flight', 'flight', 'flight', 'flight', 'aircraft', 'flight', 'flight', 'flight_time', 'flight', 'flight', 'flight', 'flight', 'flight', 'flight', 'flight', 'flight', 'airfare', 'flight', 'flight', 'abbreviation', 'flight', 'flight', 'quantity', 'flight_no', 'flight', 'flight', 'flight', 'flight', 'airfare', 'abbreviation', 'flight', 'ground_service', 'flight', 'flight', 'flight', 'flight', 'flight', 'flight', 'airfare', 'flight', 'flight', 'ground_service', 'flight', 'flight', 'airline', 'flight', 'quantity', 'flight', 'flight', 'flight', 'flight', 'airfare', 'flight', 'flight', 'city', 'flight', 'flight', 'flight', 'flight', 'flight', 'flight', 'airfare', 'flight', 'flight', 'flight', 'flight', 'flight', 'flight', 'flight', 'flight', 'flight', 'flight', 'flight', 'flight_time', 'flight', 'quantity', 'flight_time', 'flight', 'quantity', 'flight', 'flight', 'flight', 'airline', 'flight', 'flight', 'flight', 'flight', 'flight', 'flight', 'flight', 'flight', 'flight', 'flight', 'flight', 'flight', 'flight', 'abbreviation', 'flight', 'flight', 'airfare', 'flight', 'flight', 'flight', 'flight', 'flight', 'flight', 'flight', 'flight', 'quantity', 'flight', 'flight', 'flight', 'aircraft', 'abbreviation', 'flight', 'capacity', 'flight', 'flight', 'flight', 'flight', 'flight', 'airfare', 'flight', 'flight', 'abbreviation', 'ground_service', 'flight', 'flight', 'flight', 'flight', 'airfare', 'flight', 'flight', 'flight', 'flight', 'flight', 'airfare', 'flight', 'flight', 'flight', 'flight', 'airfare', 'flight', 'airfare', 'flight', 'quantity', 'flight', 'flight', 'flight', 'flight', 'flight', 'flight', 'flight', 'flight', 'flight', 'flight', 'flight', 'flight', 'flight', 'flight', 'flight', 'flight', 'flight', 'flight', 'flight', 'airfare', 'flight', 'flight', 'airfare', 'flight', 'flight', 'flight', 'flight', 'flight', 'flight_time', 'ground_service', 'flight', 'airfare', 'flight', 'ground_service', 'flight', 'flight', 'flight', 'flight', 'airline', 'flight', 'flight', 'flight', 'ground_service', 'flight', 'flight', 'flight', 'airline', 'airfare', 'flight', 'flight', 'airfare', 'flight', 'flight', 'flight', 'distance', 'flight', 'airfare', 'flight', 'flight', 'airfare', 'flight', 'flight', 'ground_service', 'flight', 'ground_service', 'abbreviation', 'flight', 'flight', 'flight', 'flight', 'flight', 'flight', 'flight', 'flight', 'airline', 'airfare', 'flight', 'airline', 'flight', 'flight', 'flight', 'quantity', 'flight', 'flight', 'airfare', 'flight', 'airfare', 'flight', 'flight', 'flight', 'flight', 'flight', 'flight', 'flight', 'flight', 'aircraft', 'flight', 'flight', 'flight', 'flight', 'flight', 'flight', 'flight', 'flight', 'flight', 'ground_service', 'flight', 'flight', 'flight', 'flight', 'abbreviation', 'flight', 'flight', 'airfare', 'flight', 'flight', 'flight', 'flight+airfare', 'flight', 'flight', 'ground_service', 'flight', 'flight', 'quantity', 'flight', 'flight', 'flight', 'flight', 'airline', 'flight', 'flight', 'flight', 'airfare', 'flight', 'flight', 'flight', 'abbreviation', 'flight', 'airfare', 'flight', 'flight', 'flight', 'flight', 'flight', 'ground_fare', 'airline', 'flight', 'airfare', 'ground_service', 'flight+airfare', 'airfare', 'flight', 'flight', 'flight', 'flight', 'flight', 'flight', 'flight', 'flight', 'flight', 'flight', 'airfare', 'flight', 'airline', 'flight', 'airfare', 'abbreviation', 'flight', 'airfare', 'airfare', 'flight', 'flight', 'flight', 'capacity', 'flight', 'flight', 'flight', 'flight', 'ground_service', 'flight', 'airfare', 'flight', 'airfare', 'flight', 'flight', 'flight', 'flight', 'abbreviation', 'flight', 'flight', 'flight', 'flight', 'flight_time', 'flight', 'airfare', 'flight', 'flight', 'airfare', 'flight', 'airfare', 'ground_service', 'flight', 'flight', 'airfare', 'flight', 'flight', 'flight', 'abbreviation', 'flight', 'flight', 'flight', 'airfare', 'flight', 'flight', 'flight', 'flight', 'flight', 'flight', 'airport', 'flight', 'flight', 'flight', 'flight', 'airline', 'airline', 'flight', 'flight', 'flight', 'quantity', 'airfare', 'flight', 'flight', 'flight', 'flight', 'ground_service', 'quantity', 'flight', 'flight', 'flight', 'flight', 'airfare', 'flight', 'flight', 'flight', 'flight', 'flight', 'airfare', 'flight', 'flight', 'flight', 'flight', 'flight', 'airfare', 'flight', 'flight', 'flight', 'flight', 'quantity', 'flight', 'flight', 'aircraft', 'flight', 'flight', 'flight', 'flight', 'flight', 'flight+airfare', 'flight', 'aircraft', 'airfare', 'flight', 'flight', 'flight', 'flight', 'airfare', 'aircraft', 'quantity', 'abbreviation', 'flight', 'flight', 'flight', 'aircraft', 'flight', 'flight', 'flight', 'abbreviation', 'ground_service', 'flight', 'flight', 'flight', 'airfare', 'ground_service', 'ground_service', 'flight', 'abbreviation', 'flight', 'meal', 'flight', 'flight', 'flight', 'flight', 'flight', 'flight', 'flight', 'flight', 'ground_service', 'flight', 'flight', 'flight', 'airline', 'flight', 'flight', 'flight', 'flight', 'flight', 'ground_service', 'flight', 'flight', 'flight', 'flight', 'airfare', 'flight_time', 'distance', 'flight', 'ground_service', 'airfare', 'airport', 'flight', 'flight', 'airport', 'flight', 'flight', 'flight', 'flight', 'flight', 'flight', 'flight', 'flight', 'ground_service', 'flight', 'flight', 'flight', 'flight', 'airfare', 'flight', 'airfare', 'flight', 'flight', 'flight_time', 'flight', 'flight', 'capacity', 'abbreviation', 'flight', 'flight', 'flight', 'flight', 'airfare', 'airfare', 'ground_service', 'flight', 'flight', 'flight', 'flight', 'flight_time', 'flight', 'flight', 'airfare', 'flight', 'flight', 'ground_fare', 'flight', 'airfare', 'flight', 'abbreviation', 'aircraft', 'flight', 'aircraft', 'flight', 'flight', 'airfare', 'flight', 'flight', 'airline', 'abbreviation', 'flight', 'abbreviation', 'flight', 'restriction', 'flight', 'flight', 'flight', 'airfare', 'flight', 'flight', 'flight', 'flight', 'aircraft', 'flight', 'flight', 'flight', 'flight', 'flight', 'ground_service', 'flight', 'flight', 'flight+airfare', 'flight', 'flight', 'flight', 'flight', 'flight', 'flight', 'flight', 'abbreviation', 'flight', 'flight', 'flight', 'flight', 'flight', 'abbreviation', 'flight', 'flight', 'abbreviation', 'airfare', 'flight', 'flight_no', 'airfare', 'flight', 'airfare', 'flight', 'flight', 'flight', 'flight', 'aircraft', 'flight', 'ground_service', 'ground_service', 'flight', 'flight', 'flight', 'flight', 'flight', 'airfare', 'flight', 'quantity', 'flight', 'distance', 'flight', 'airfare', 'flight', 'ground_service', 'flight', 'flight', 'flight', 'flight', 'flight', 'flight', 'flight', 'flight', 'airfare', 'flight', 'flight', 'flight', 'flight', 'flight', 'flight', 'ground_service', 'flight', 'airfare', 'flight', 'flight', 'flight', 'flight', 'flight', 'flight', 'flight', 'flight', 'flight', 'flight', 'flight', 'flight', 'flight', 'flight', 'ground_service', 'flight', 'flight', 'flight', 'flight', 'quantity', 'flight', 'flight', 'flight', 'flight', 'flight', 'flight', 'flight', 'flight_time', 'ground_service', 'flight', 'airline', 'flight', 'flight', 'flight', 'aircraft', 'flight_time', 'flight', 'airfare', 'flight_no', 'flight', 'airline', 'flight', 'flight', 'flight', 'flight', 'airfare', 'flight', 'flight', 'flight', 'abbreviation', 'flight', 'flight', 'flight', 'flight', 'airfare', 'flight', 'flight', 'flight', 'airline', 'abbreviation', 'flight', 'flight', 'flight', 'flight', 'airline', 'flight', 'flight', 'flight', 'flight', 'flight', 'airline', 'flight', 'flight', 'flight', 'flight', 'flight', 'flight', 'flight', 'flight', 'flight', 'flight', 'flight', 'flight', 'airline', 'airfare', 'flight', 'flight', 'flight', 'flight', 'flight', 'flight', 'flight', 'capacity', 'flight', 'flight', 'flight', 'flight', 'flight', 'airfare', 'flight', 'flight', 'flight', 'flight', 'abbreviation', 'flight', 'airfare', 'flight_time', 'flight', 'flight', 'flight', 'flight', 'airline', 'flight', 'flight', 'flight', 'flight', 'flight', 'flight', 'flight', 'flight', 'flight', 'flight', 'flight', 'flight', 'flight', 'flight', 'airfare', 'flight', 'flight', 'flight', 'flight', 'flight', 'flight', 'flight', 'airfare', 'airfare', 'flight', 'airfare', 'flight', 'flight', 'ground_service', 'flight', 'flight', 'flight', 'flight', 'flight', 'flight', 'flight', 'airfare', 'flight', 'flight', 'flight', 'flight', 'flight', 'flight', 'flight', 'flight', 'airfare', 'flight', 'flight', 'flight', 'flight', 'flight', 'flight', 'flight', 'flight_time', 'flight', 'flight', 'flight', 'flight', 'flight', 'flight', 'aircraft', 'flight', 'flight', 'flight', 'flight', 'flight', 'flight', 'flight', 'flight', 'flight', 'flight', 'flight', 'flight', 'flight', 'flight', 'airline', 'airline', 'flight', 'flight', 'flight', 'airfare', 'airline', 'airline', 'flight', 'airfare', 'flight', 'flight', 'aircraft', 'airfare', 'flight', 'flight', 'flight', 'flight', 'flight', 'flight', 'flight', 'flight', 'flight', 'flight', 'abbreviation', 'flight', 'airfare', 'flight', 'airline', 'airfare', 'flight', 'flight', 'airline', 'quantity', 'flight', 'flight', 'airfare', 'flight', 'abbreviation', 'flight', 'flight', 'ground_service', 'flight', 'ground_service', 'flight', 'airfare', 'flight', 'flight', 'flight', 'flight', 'flight', 'city', 'abbreviation', 'flight', 'flight', 'flight', 'flight', 'abbreviation', 'flight', 'flight', 'flight', 'airfare', 'flight', 'flight', 'flight', 'flight_time', 'airline', 'flight', 'flight', 'flight', 'flight', 'flight', 'flight', 'flight', 'flight', 'restriction', 'flight', 'flight', 'flight', 'flight', 'flight', 'flight', 'flight', 'flight', 'flight', 'flight', 'flight', 'flight', 'flight', 'aircraft', 'flight', 'airfare', 'flight', 'flight', 'ground_service', 'flight', 'aircraft', 'flight', 'airfare', 'flight', 'airfare', 'flight', 'flight', 'flight', 'flight', 'flight', 'flight', 'flight', 'flight', 'flight', 'flight', 'ground_service', 'aircraft', 'abbreviation', 'flight', 'airfare', 'flight', 'distance', 'flight', 'airfare', 'aircraft', 'flight', 'flight', 'flight', 'flight', 'flight', 'ground_service', 'flight', 'flight', 'flight', 'flight', 'flight', 'flight', 'flight', 'flight', 'flight', 'flight', 'flight', 'flight', 'flight', 'airfare', 'flight', 'airfare', 'flight', 'flight', 'flight_no', 'flight', 'flight', 'flight', 'airfare', 'flight', 'flight', 'aircraft', 'airline', 'flight', 'flight', 'flight', 'flight', 'flight', 'flight', 'flight', 'aircraft', 'flight', 'flight', 'airfare', 'flight', 'aircraft', 'flight', 'quantity', 'flight', 'abbreviation', 'flight', 'flight', 'flight', 'flight', 'flight', 'flight', 'flight', 'flight', 'flight', 'ground_service', 'flight', 'flight', 'flight', 'flight', 'flight', 'flight', 'flight', 'flight', 'flight', 'ground_service', 'flight', 'quantity', 'flight', 'ground_fare', 'flight', 'flight', 'flight', 'flight', 'quantity', 'flight', 'flight', 'flight', 'flight', 'flight', 'flight', 'flight', 'flight', 'ground_service', 'flight', 'abbreviation', 'flight', 'flight', 'flight', 'flight', 'flight+airfare', 'airfare', 'airfare', 'flight', 'flight', 'flight', 'flight', 'flight', 'flight', 'flight', 'flight', 'ground_service', 'flight', 'flight', 'flight', 'airfare', 'flight', 'flight', 'flight', 'aircraft', 'flight', 'flight', 'flight', 'flight', 'flight', 'flight', 'flight', 'ground_service', 'flight', 'ground_service', 'ground_fare', 'abbreviation', 'airline', 'airfare', 'airfare', 'flight', 'flight', 'flight', 'flight', 'flight', 'flight', 'flight', 'flight', 'flight', 'flight', 'flight', 'airline', 'airfare', 'airfare', 'flight', 'flight', 'flight', 'ground_service', 'flight', 'flight', 'flight', 'flight', 'flight', 'flight', 'airfare', 'flight', 'flight', 'flight', 'airfare', 'flight', 'flight', 'flight', 'flight', 'flight', 'flight', 'flight', 'flight', 'ground_service', 'flight', 'ground_service', 'flight', 'flight', 'flight', 'flight', 'flight', 'flight', 'abbreviation', 'flight', 'flight', 'flight', 'ground_fare', 'flight', 'flight', 'flight', 'ground_service', 'flight', 'aircraft', 'ground_service', 'flight', 'airline', 'flight', 'ground_service', 'flight', 'flight', 'flight', 'flight', 'abbreviation', 'ground_service', 'flight', 'flight', 'flight', 'flight', 'flight', 'flight', 'airfare', 'airfare', 'quantity', 'flight', 'flight', 'flight', 'flight', 'flight', 'flight', 'flight', 'flight', 'abbreviation', 'flight', 'flight', 'flight', 'flight', 'ground_service', 'city', 'flight', 'airfare', 'flight', 'abbreviation', 'flight', 'flight', 'airport', 'flight', 'flight', 'flight', 'flight', 'airfare', 'ground_service', 'airfare', 'ground_service', 'flight', 'flight', 'flight', 'airline', 'flight', 'flight', 'flight', 'flight', 'flight', 'ground_service', 'flight', 'flight', 'flight', 'flight', 'flight', 'flight', 'flight', 'airfare', 'flight', 'flight', 'abbreviation', 'flight', 'flight', 'flight', 'flight', 'flight', 'flight', 'flight', 'flight', 'flight', 'flight', 'flight', 'flight', 'airfare', 'flight', 'flight', 'airfare', 'flight', 'flight', 'aircraft', 'flight', 'flight', 'flight', 'flight', 'flight', 'flight', 'flight', 'flight', 'flight', 'flight', 'ground_service', 'airline', 'flight_time', 'airfare', 'flight', 'airfare', 'flight', 'flight', 'flight', 'flight', 'flight', 'aircraft', 'flight', 'flight', 'flight', 'flight', 'flight', 'flight', 'airfare', 'airfare', 'flight', 'flight', 'flight', 'flight', 'flight', 'flight', 'flight', 'airfare', 'airfare', 'flight', 'flight', 'flight', 'flight', 'flight', 'flight', 'flight', 'flight', 'flight', 'flight', 'flight', 'flight', 'flight', 'flight', 'ground_service', 'capacity', 'flight', 'flight', 'flight', 'flight', 'abbreviation', 'flight', 'flight', 'flight', 'airfare', 'flight', 'flight', 'flight', 'flight', 'flight', 'flight', 'flight', 'aircraft', 'flight', 'flight', 'flight', 'aircraft', 'abbreviation', 'flight', 'flight', 'flight', 'abbreviation', 'flight', 'flight', 'flight', 'airline', 'flight', 'flight', 'distance', 'flight', 'flight', 'flight', 'flight', 'flight_time', 'flight', 'airfare', 'flight', 'flight', 'flight', 'flight', 'flight', 'airfare', 'flight', 'flight', 'flight', 'quantity', 'quantity', 'flight', 'flight', 'flight', 'airfare', 'flight', 'flight', 'quantity', 'flight', 'ground_service', 'flight', 'flight', 'flight', 'flight', 'flight', 'flight', 'flight', 'flight', 'flight', 'flight', 'flight', 'flight', 'flight', 'flight', 'flight', 'flight', 'flight', 'flight', 'flight', 'flight', 'flight', 'flight', 'airfare', 'flight', 'flight', 'airfare', 'flight', 'flight', 'flight', 'airline', 'flight', 'flight', 'flight', 'flight_time', 'flight', 'flight', 'flight', 'flight', 'flight', 'flight', 'flight', 'flight', 'ground_service', 'flight', 'flight', 'flight', 'abbreviation', 'flight', 'airfare', 'flight', 'flight', 'airfare', 'flight', 'flight', 'flight', 'flight', 'flight', 'airline', 'flight', 'flight', 'flight', 'flight', 'flight', 'abbreviation', 'flight', 'flight', 'flight', 'flight', 'flight', 'flight', 'flight', 'flight', 'flight_no', 'ground_service', 'flight', 'flight', 'flight', 'flight', 'flight', 'flight_no', 'flight', 'flight', 'flight', 'ground_service', 'flight', 'airfare', 'flight_time', 'flight', 'flight', 'flight', 'flight', 'flight', 'flight', 'flight', 'flight', 'flight', 'flight', 'flight', 'airfare', 'flight', 'ground_service', 'flight', 'flight', 'abbreviation', 'flight', 'flight', 'flight', 'flight', 'quantity', 'flight', 'flight', 'flight', 'flight', 'flight', 'flight', 'flight', 'flight', 'flight', 'flight', 'aircraft', 'flight', 'flight', 'flight', 'flight', 'airfare', 'flight', 'ground_service', 'flight', 'airfare', 'flight', 'flight', 'flight', 'flight', 'flight', 'flight', 'flight', 'flight', 'airfare', 'flight', 'airfare', 'airline', 'flight', 'flight', 'flight', 'flight', 'flight', 'flight', 'flight+airfare', 'flight', 'flight', 'flight', 'airfare', 'flight', 'flight', 'flight', 'airline', 'flight', 'flight', 'flight', 'flight', 'flight', 'ground_service', 'flight', 'flight', 'airline', 'flight', 'flight', 'airfare', 'flight', 'flight', 'ground_service', 'quantity', 'flight', 'airline', 'ground_service', 'airfare', 'flight', 'flight', 'flight', 'flight', 'airfare', 'flight_time', 'flight', 'flight', 'flight', 'flight', 'flight', 'airfare', 'flight', 'flight', 'flight', 'city', 'flight', 'flight', 'flight', 'flight', 'flight', 'ground_service', 'flight', 'ground_service', 'flight', 'flight', 'flight', 'airfare', 'ground_service', 'airfare', 'airfare', 'abbreviation', 'flight', 'airfare', 'flight', 'flight', 'flight', 'flight', 'flight', 'flight', 'flight', 'flight', 'flight', 'flight', 'flight', 'flight', 'airline', 'flight', 'flight', 'flight', 'airfare', 'ground_service', 'flight', 'flight', 'aircraft', 'flight', 'airfare', 'flight', 'flight', 'flight', 'flight', 'flight', 'flight', 'flight', 'flight', 'flight', 'airfare', 'quantity', 'flight', 'flight', 'flight', 'flight', 'flight', 'airline', 'flight', 'flight', 'ground_service', 'capacity', 'flight', 'ground_service', 'flight', 'flight', 'flight', 'flight', 'flight', 'flight', 'flight', 'airfare', 'flight', 'flight', 'flight', 'flight', 'airfare', 'airline', 'flight', 'flight', 'airfare', 'flight', 'flight', 'quantity', 'ground_service', 'flight', 'flight', 'flight', 'quantity', 'airline', 'ground_service', 'flight', 'flight', 'flight', 'flight', 'flight', 'abbreviation', 'flight', 'flight', 'flight', 'flight', 'distance', 'flight', 'flight', 'flight', 'flight', 'ground_service', 'flight', 'flight', 'flight_time', 'flight', 'flight', 'airfare', 'flight', 'flight', 'flight', 'flight', 'abbreviation', 'flight', 'flight', 'flight', 'airfare', 'flight', 'airfare', 'flight', 'ground_service', 'flight', 'flight', 'airline', 'flight', 'flight', 'airline', 'flight', 'flight', 'aircraft', 'flight', 'flight', 'flight', 'ground_service', 'flight', 'flight', 'flight', 'flight', 'flight', 'airfare', 'flight', 'flight', 'flight', 'flight', 'flight', 'flight', 'flight', 'airfare', 'flight', 'airfare', 'airline', 'flight', 'abbreviation', 'flight', 'flight', 'ground_service', 'flight', 'flight', 'flight', 'airfare', 'flight', 'flight', 'flight', 'flight', 'flight_time', 'ground_service', 'flight', 'flight', 'flight', 'flight', 'flight', 'airfare', 'flight', 'flight', 'flight', 'flight', 'flight', 'ground_service', 'ground_service', 'flight', 'ground_service', 'flight', 'flight', 'flight', 'flight', 'airfare', 'flight', 'flight', 'flight', 'quantity', 'flight', 'flight', 'flight', 'flight', 'flight', 'airline', 'flight', 'flight', 'ground_service', 'flight', 'flight+airfare', 'flight', 'abbreviation', 'flight', 'flight', 'flight', 'flight', 'capacity', 'airfare', 'flight', 'airfare', 'airline+flight_no', 'airport', 'airline', 'airfare', 'airfare', 'flight', 'airline', 'flight', 'ground_service', 'flight', 'flight', 'flight', 'flight', 'flight', 'flight', 'flight', 'ground_service', 'aircraft', 'flight', 'flight', 'quantity', 'flight', 'flight', 'flight', 'flight', 'flight', 'flight', 'flight', 'ground_fare', 'flight', 'flight', 'flight', 'flight', 'flight', 'flight', 'flight', 'abbreviation', 'flight', 'flight', 'flight', 'flight', 'flight', 'flight', 'flight', 'abbreviation', 'flight', 'flight', 'airline', 'flight', 'flight', 'flight', 'flight', 'flight', 'flight', 'flight', 'flight', 'flight', 'flight', 'aircraft', 'flight', 'flight', 'city', 'flight', 'flight', 'flight', 'flight', 'flight', 'flight', 'airfare', 'flight', 'flight', 'flight', 'flight', 'flight', 'flight', 'flight', 'flight', 'flight', 'flight', 'flight', 'flight', 'flight', 'quantity', 'airfare', 'flight', 'flight', 'airline', 'flight', 'flight', 'flight', 'flight', 'flight', 'abbreviation', 'abbreviation', 'aircraft', 'flight', 'flight', 'flight', 'flight', 'airport', 'aircraft', 'flight', 'flight', 'airfare', 'flight', 'flight', 'ground_fare', 'flight', 'flight', 'flight', 'flight', 'flight', 'flight', 'flight', 'flight', 'flight', 'flight', 'airline', 'flight', 'flight', 'flight', 'flight', 'flight', 'flight', 'flight', 'flight', 'flight', 'flight', 'flight', 'airfare', 'flight', 'flight_time', 'abbreviation', 'flight', 'flight', 'flight', 'flight', 'flight', 'flight', 'flight', 'flight', 'flight', 'flight', 'flight', 'flight', 'flight', 'capacity', 'flight', 'flight', 'airfare', 'flight', 'flight', 'flight', 'flight', 'flight', 'flight', 'flight', 'flight', 'flight', 'quantity', 'flight', 'flight', 'flight', 'flight', 'aircraft', 'flight', 'flight', 'flight', 'flight', 'airline', 'flight', 'flight', 'flight', 'airfare', 'flight', 'airfare', 'flight_time', 'flight', 'flight_time', 'flight', 'flight', 'flight', 'airfare', 'flight', 'flight', 'airfare', 'flight', 'flight', 'flight', 'flight', 'flight', 'flight', 'flight', 'flight', 'ground_service', 'flight', 'flight', 'flight', 'ground_service', 'flight', 'airline', 'flight', 'flight', 'flight', 'flight', 'aircraft', 'ground_service', 'airline', 'flight', 'flight', 'airfare', 'flight', 'flight', 'flight', 'flight', 'flight', 'flight', 'flight', 'ground_service', 'flight', 'flight', 'flight', 'aircraft', 'flight', 'flight', 'flight', 'flight', 'flight', 'flight', 'flight', 'flight', 'ground_service', 'flight', 'quantity', 'flight', 'flight', 'flight', 'flight', 'flight', 'flight', 'airfare', 'flight', 'distance', 'flight', 'flight', 'ground_service', 'flight', 'flight', 'flight', 'ground_service', 'flight', 'flight', 'flight', 'flight', 'flight', 'flight', 'flight', 'flight', 'flight', 'airfare', 'flight', 'flight', 'flight', 'flight', 'ground_service', 'flight', 'airfare', 'airline', 'flight', 'flight', 'flight', 'airline', 'flight', 'flight', 'flight', 'flight', 'flight', 'flight', 'flight', 'flight', 'flight', 'flight', 'flight', 'flight', 'flight', 'flight', 'flight', 'flight', 'flight', 'flight', 'flight', 'flight', 'flight', 'flight', 'flight', 'airfare', 'flight', 'flight', 'flight', 'flight', 'flight', 'flight', 'flight', 'flight', 'airfare', 'flight', 'airfare', 'airfare', 'flight_time', 'ground_service', 'flight', 'ground_service', 'flight+airfare', 'flight', 'capacity', 'flight', 'abbreviation', 'flight', 'distance', 'flight', 'flight', 'airfare', 'flight', 'flight', 'flight', 'flight', 'airfare', 'flight', 'airfare', 'flight', 'flight', 'flight', 'airline', 'flight', 'flight', 'ground_service', 'flight', 'flight', 'flight', 'ground_fare', 'flight', 'airline', 'flight', 'flight', 'flight', 'flight', 'flight', 'flight', 'abbreviation', 'ground_service', 'flight', 'flight', 'flight', 'flight', 'flight', 'airfare', 'flight', 'flight', 'flight', 'ground_service', 'flight', 'flight', 'flight', 'abbreviation', 'aircraft', 'flight', 'flight', 'flight', 'flight', 'airfare', 'flight', 'ground_service', 'flight', 'flight', 'flight', 'flight', 'flight', 'ground_service', 'flight', 'flight', 'flight', 'flight', 'airport', 'airfare', 'flight', 'flight', 'flight', 'flight', 'airfare', 'flight', 'ground_service', 'flight', 'flight', 'airfare', 'flight', 'airfare', 'flight', 'flight', 'flight', 'airline', 'flight', 'ground_service', 'flight', 'ground_service', 'flight', 'flight', 'flight', 'airline', 'capacity', 'flight', 'flight', 'flight', 'flight', 'flight', 'airline', 'flight', 'flight', 'airfare', 'airfare', 'flight', 'airfare', 'flight', 'airline', 'flight', 'flight', 'abbreviation', 'flight', 'flight', 'flight', 'flight', 'flight', 'flight', 'flight', 'ground_service', 'abbreviation', 'flight', 'aircraft', 'flight', 'airline', 'ground_service', 'flight', 'flight', 'flight', 'airfare', 'flight', 'flight', 'ground_service', 'flight', 'flight', 'flight', 'flight', 'flight', 'flight', 'quantity', 'flight', 'ground_service', 'flight', 'ground_service', 'flight', 'flight', 'flight', 'flight', 'flight', 'flight', 'airfare', 'flight', 'airline', 'flight', 'airfare', 'flight', 'flight', 'flight', 'flight', 'flight', 'flight', 'flight', 'flight', 'aircraft', 'flight', 'airfare', 'flight', 'flight', 'flight', 'flight', 'airfare', 'flight', 'flight', 'flight', 'flight', 'flight', 'flight', 'flight', 'flight', 'flight', 'flight', 'meal', 'flight', 'flight', 'flight', 'flight', 'flight', 'flight', 'flight', 'flight', 'flight', 'flight', 'flight', 'flight', 'flight', 'ground_service', 'flight', 'airline', 'flight', 'flight', 'flight', 'flight', 'flight', 'aircraft', 'abbreviation', 'ground_service', 'flight', 'airfare', 'abbreviation', 'flight', 'ground_service', 'flight', 'flight', 'abbreviation', 'flight', 'flight', 'flight', 'flight', 'abbreviation', 'flight', 'flight', 'ground_service', 'aircraft', 'flight', 'flight', 'flight', 'airport', 'flight', 'flight', 'flight', 'airfare', 'flight', 'flight', 'flight', 'flight', 'flight', 'flight', 'flight', 'flight', 'flight', 'flight', 'flight', 'flight', 'flight', 'flight', 'ground_service', 'airfare', 'flight', 'flight', 'flight', 'airfare', 'flight', 'airfare', 'flight', 'flight', 'flight', 'flight', 'flight', 'flight', 'ground_service', 'flight', 'city', 'flight', 'flight', 'flight', 'abbreviation', 'flight', 'ground_service', 'flight', 'flight', 'airline', 'flight', 'ground_service', 'aircraft', 'airfare', 'flight', 'flight', 'flight', 'flight', 'airfare', 'flight', 'quantity', 'abbreviation', 'flight', 'flight', 'flight', 'flight', 'flight', 'flight', 'flight', 'flight', 'flight', 'airline', 'airfare', 'flight', 'ground_service', 'flight', 'airfare', 'flight', 'flight', 'flight', 'flight', 'flight', 'flight', 'abbreviation', 'flight', 'flight', 'flight', 'flight', 'airfare', 'flight', 'flight', 'flight', 'flight', 'airfare', 'ground_service', 'flight', 'flight_no', 'flight', 'ground_service', 'flight', 'airline', 'flight', 'airline', 'flight', 'flight', 'quantity', 'flight', 'flight', 'flight', 'flight', 'flight', 'flight', 'flight', 'flight', 'flight', 'flight', 'flight', 'aircraft', 'flight', 'flight', 'flight', 'flight', 'flight', 'distance', 'flight', 'flight', 'flight', 'flight', 'ground_service+ground_fare', 'flight', 'flight', 'abbreviation', 'flight', 'flight', 'flight', 'flight', 'flight', 'flight', 'flight', 'flight', 'flight', 'flight', 'flight', 'flight', 'airfare', 'airline', 'airfare', 'flight', 'flight', 'flight', 'airfare', 'flight', 'ground_fare', 'flight', 'abbreviation', 'capacity', 'aircraft', 'airfare', 'abbreviation', 'flight', 'flight', 'flight', 'flight', 'flight', 'flight', 'flight', 'flight', 'flight', 'flight', 'flight', 'flight', 'flight', 'ground_service', 'flight', 'flight', 'ground_service', 'flight', 'flight', 'flight', 'airline', 'flight', 'flight', 'ground_service', 'flight', 'flight', 'abbreviation', 'flight', 'ground_service', 'flight', 'flight', 'flight', 'flight', 'flight', 'ground_service', 'flight', 'flight', 'flight', 'distance', 'flight', 'flight', 'flight', 'flight', 'flight', 'flight', 'abbreviation', 'flight', 'flight', 'flight', 'airline', 'flight', 'flight', 'flight', 'flight', 'flight', 'flight', 'flight', 'flight', 'flight', 'flight', 'flight', 'airfare', 'ground_service', 'airfare', 'flight', 'flight', 'flight', 'flight', 'flight_time', 'flight', 'flight', 'flight', 'flight', 'flight', 'flight', 'flight', 'flight', 'airline', 'flight', 'flight', 'flight', 'flight', 'flight', 'flight', 'flight', 'flight', 'flight', 'airfare+flight_time', 'flight', 'abbreviation', 'flight', 'flight', 'flight', 'flight', 'flight', 'flight', 'flight', 'airline', 'flight', 'flight', 'flight', 'flight', 'airline', 'flight', 'flight', 'flight_time', 'ground_service', 'flight', 'flight', 'flight', 'aircraft', 'airline', 'flight', 'flight', 'flight', 'flight', 'flight', 'flight', 'flight', 'flight', 'flight', 'flight', 'flight', 'flight', 'flight', 'flight', 'airfare', 'flight', 'flight', 'flight', 'flight', 'airfare', 'ground_service', 'ground_service', 'flight', 'flight', 'flight', 'flight', 'flight', 'flight', 'flight', 'flight', 'ground_service', 'flight', 'flight', 'abbreviation', 'abbreviation', 'abbreviation', 'quantity', 'flight', 'flight+airfare', 'aircraft', 'flight', 'flight', 'ground_service', 'ground_service', 'flight', 'flight', 'flight', 'flight', 'flight', 'flight', 'flight', 'flight', 'flight', 'flight', 'flight', 'abbreviation', 'ground_service', 'flight', 'flight', 'flight', 'flight', 'flight', 'flight', 'abbreviation', 'flight', 'flight', 'flight', 'flight', 'flight', 'ground_service', 'flight', 'flight', 'flight', 'airfare', 'flight', 'flight', 'airline', 'airline', 'flight', 'airline', 'ground_service', 'flight', 'flight', 'ground_service', 'flight', 'flight', 'airfare', 'flight', 'flight', 'flight', 'flight', 'flight', 'airline', 'flight_no', 'flight', 'city', 'flight', 'flight', 'quantity', 'flight', 'flight', 'abbreviation', 'flight', 'quantity', 'flight', 'quantity', 'flight', 'quantity', 'ground_fare', 'airfare', 'ground_service', 'flight', 'abbreviation', 'flight', 'ground_service', 'flight', 'flight', 'flight', 'flight+airfare', 'airfare', 'flight', 'flight', 'abbreviation', 'flight', 'flight', 'airline', 'flight', 'flight', 'flight', 'flight', 'flight', 'flight', 'airfare', 'flight', 'airfare', 'flight', 'flight', 'aircraft', 'flight', 'ground_service', 'flight', 'flight', 'flight', 'flight', 'flight', 'flight', 'airfare', 'flight', 'flight_time', 'flight', 'abbreviation', 'flight_time', 'flight', 'abbreviation', 'flight', 'flight', 'flight', 'flight', 'flight', 'flight', 'ground_service', 'flight', 'flight', 'flight', 'flight', 'flight', 'aircraft', 'flight', 'flight', 'ground_service', 'flight', 'ground_fare', 'flight', 'flight', 'capacity', 'airfare', 'airline', 'flight', 'airfare', 'flight', 'airfare', 'flight', 'flight', 'flight', 'flight', 'airfare', 'flight_time', 'flight', 'flight', 'flight', 'flight', 'flight', 'flight', 'flight', 'flight', 'flight', 'aircraft', 'aircraft', 'flight', 'flight', 'flight', 'flight', 'aircraft', 'flight', 'flight', 'flight_time', 'flight', 'flight', 'airfare', 'flight', 'flight', 'airfare', 'airline', 'flight', 'flight', 'flight', 'flight', 'flight', 'flight', 'flight', 'flight', 'flight', 'flight', 'flight', 'flight', 'flight', 'flight', 'flight', 'flight', 'flight', 'flight', 'flight', 'flight', 'flight_time', 'flight', 'flight', 'flight', 'flight', 'flight', 'airfare', 'airport', 'flight', 'flight', 'flight', 'ground_fare', 'flight', 'airfare', 'flight', 'flight', 'airfare', 'airfare', 'flight', 'abbreviation', 'flight', 'flight', 'ground_service', 'flight', 'flight', 'flight', 'flight', 'flight', 'abbreviation', 'flight', 'flight', 'flight', 'flight', 'flight', 'flight', 'flight', 'flight', 'ground_service', 'flight', 'flight', 'flight_time', 'flight', 'flight', 'flight', 'flight', 'abbreviation', 'flight', 'flight', 'ground_fare', 'flight', 'flight', 'flight', 'flight', 'distance', 'airline', 'abbreviation', 'flight', 'airfare', 'flight', 'flight', 'airfare', 'flight', 'flight', 'flight', 'flight', 'flight', 'distance', 'airfare', 'flight', 'flight', 'flight', 'aircraft', 'airline', 'flight', 'flight', 'abbreviation', 'flight', 'flight', 'flight', 'distance', 'flight', 'flight', 'flight', 'flight', 'flight', 'flight', 'flight+airfare', 'flight', 'flight', 'flight', 'ground_service', 'flight', 'flight', 'flight', 'airline', 'flight', 'flight', 'flight', 'flight', 'flight', 'flight', 'flight', 'flight', 'flight', 'airfare', 'flight', 'airline', 'flight', 'flight', 'flight', 'flight', 'flight', 'abbreviation', 'flight', 'flight', 'flight', 'flight', 'flight', 'flight', 'flight_time', 'flight', 'meal', 'flight', 'flight', 'flight', 'airfare', 'flight', 'flight', 'flight', 'flight', 'ground_service', 'flight', 'flight', 'flight', 'flight', 'flight', 'ground_service', 'flight', 'flight', 'flight', 'flight', 'city', 'flight', 'flight', 'flight', 'airline', 'flight', 'flight', 'flight', 'flight', 'airfare', 'abbreviation', 'flight', 'flight', 'flight', 'abbreviation', 'airfare', 'airfare', 'flight', 'flight', 'flight', 'flight', 'flight', 'flight', 'ground_service', 'flight', 'flight', 'flight', 'flight', 'flight', 'flight_time', 'flight', 'flight', 'flight', 'flight', 'flight_time', 'flight', 'flight', 'flight', 'flight', 'flight', 'flight', 'flight', 'flight', 'flight', 'flight', 'flight', 'airfare', 'flight', 'flight', 'flight', 'flight', 'flight', 'flight', 'flight', 'flight', 'flight', 'airline+flight_no', 'flight', 'flight', 'ground_service', 'flight', 'flight', 'flight', 'flight', 'flight', 'flight', 'flight', 'flight', 'flight', 'airfare', 'flight', 'flight', 'flight', 'flight', 'flight', 'airfare', 'flight', 'flight', 'quantity', 'flight', 'flight', 'flight', 'flight', 'flight', 'flight', 'flight', 'airfare', 'airfare', 'flight', 'airfare', 'airfare', 'flight', 'flight', 'quantity', 'flight', 'airfare', 'ground_service', 'flight', 'flight', 'flight', 'flight', 'flight', 'airline', 'airfare', 'flight', 'flight', 'flight', 'flight', 'flight', 'airfare', 'flight', 'flight', 'flight', 'airfare', 'flight', 'flight', 'flight', 'flight', 'flight', 'flight', 'flight', 'flight', 'ground_service', 'flight', 'flight', 'flight', 'flight+airfare', 'abbreviation', 'flight', 'flight', 'flight', 'abbreviation', 'flight', 'flight', 'flight', 'flight', 'airfare', 'flight', 'flight', 'flight', 'flight', 'flight', 'flight', 'flight', 'flight', 'flight', 'flight', 'flight', 'flight', 'flight', 'flight', 'flight', 'flight', 'flight', 'flight', 'flight', 'flight', 'flight', 'flight', 'ground_service', 'flight', 'flight', 'flight', 'flight', 'flight', 'airfare', 'flight', 'airfare', 'flight', 'abbreviation', 'flight', 'flight', 'aircraft', 'flight', 'flight', 'flight', 'airfare', 'flight', 'flight', 'airfare', 'flight', 'flight', 'flight', 'flight', 'airline', 'flight', 'flight', 'flight', 'flight', 'flight', 'ground_service', 'flight', 'flight', 'flight', 'airline', 'flight', 'flight', 'flight', 'flight', 'airfare', 'flight', 'abbreviation', 'flight', 'flight', 'flight', 'flight', 'flight', 'flight', 'flight', 'flight', 'flight', 'abbreviation', 'ground_service', 'flight', 'flight', 'airfare', 'airline', 'flight', 'flight', 'flight', 'abbreviation', 'flight', 'quantity', 'flight', 'flight', 'flight', 'ground_service', 'flight', 'flight', 'ground_service', 'flight', 'cheapest', 'flight', 'flight', 'flight', 'airfare', 'quantity', 'airfare', 'flight', 'flight', 'flight', 'flight', 'ground_service', 'flight', 'flight', 'ground_service', 'flight_time', 'airfare', 'flight', 'flight', 'flight', 'flight', 'flight', 'flight', 'airline', 'flight', 'airline', 'flight', 'flight', 'flight', 'flight', 'flight', 'flight', 'flight', 'flight', 'flight', 'flight', 'flight', 'flight', 'ground_service', 'flight', 'flight', 'flight', 'city', 'abbreviation', 'flight', 'flight', 'flight', 'flight', 'flight', 'flight', 'flight', 'flight', 'flight_time', 'abbreviation', 'flight', 'flight', 'airfare', 'flight', 'flight', 'airline', 'airfare', 'flight', 'flight', 'airline', 'aircraft', 'flight', 'quantity', 'flight', 'flight', 'aircraft', 'flight', 'flight', 'flight', 'ground_service', 'flight', 'airfare', 'flight', 'airfare', 'flight', 'flight', 'flight', 'flight', 'flight', 'ground_service', 'flight', 'airline', 'flight', 'flight', 'ground_service', 'airfare', 'airfare', 'flight', 'flight', 'flight', 'abbreviation', 'flight', 'flight', 'flight', 'flight', 'flight', 'flight', 'flight', 'flight', 'airfare', 'flight', 'flight', 'flight', 'flight', 'flight', 'flight', 'flight', 'flight', 'flight', 'flight', 'airfare', 'flight', 'flight', 'flight', 'flight', 'flight', 'flight', 'flight', 'flight', 'flight', 'flight', 'flight', 'flight', 'flight', 'flight', 'flight', 'flight', 'airfare', 'flight', 'flight', 'flight', 'flight', 'airfare', 'flight', 'flight', 'flight', 'flight', 'airline', 'flight', 'flight', 'flight', 'flight', 'flight', 'ground_service', 'flight', 'flight', 'flight', 'flight', 'flight', 'flight', 'airfare', 'flight_time', 'flight', 'flight', 'flight', 'flight', 'airfare', 'flight', 'flight', 'abbreviation', 'flight', 'flight', 'ground_service', 'abbreviation', 'flight_no', 'flight', 'airfare', 'flight', 'flight', 'flight', 'airfare', 'flight', 'ground_service', 'flight', 'city', 'quantity', 'airport', 'airfare', 'flight', 'flight', 'flight', 'flight', 'airfare', 'flight', 'flight', 'flight', 'flight', 'flight', 'flight', 'flight', 'flight', 'flight', 'flight', 'flight', 'flight', 'flight', 'ground_service', 'flight', 'airfare', 'flight', 'flight', 'ground_service', 'quantity', 'flight', 'flight', 'flight', 'airline', 'abbreviation', 'flight', 'flight+airfare', 'airline', 'flight', 'flight', 'flight', 'flight', 'flight', 'flight', 'ground_service', 'city', 'flight', 'flight', 'flight', 'flight', 'airfare', 'flight_no', 'airfare', 'flight', 'ground_service', 'flight', 'flight', 'ground_service', 'flight', 'flight', 'flight', 'flight', 'abbreviation', 'flight', 'flight', 'flight', 'flight', 'flight', 'flight', 'abbreviation', 'airfare', 'flight', 'flight', 'flight_time', 'flight', 'abbreviation', 'flight', 'flight', 'flight', 'flight_time', 'aircraft', 'flight', 'airfare', 'flight', 'ground_service', 'flight', 'flight', 'abbreviation', 'flight', 'airline', 'airfare', 'flight', 'flight', 'flight', 'flight', 'aircraft', 'flight', 'airfare', 'flight', 'flight', 'airfare', 'flight', 'ground_service', 'flight', 'flight', 'flight', 'flight', 'flight', 'flight', 'flight', 'flight', 'flight', 'flight', 'ground_service', 'flight', 'airfare', 'flight', 'flight', 'flight', 'flight', 'flight', 'flight', 'flight', 'flight', 'flight', 'ground_service', 'flight', 'airfare', 'flight+airfare', 'flight', 'flight', 'aircraft', 'ground_service', 'flight', 'flight', 'flight', 'flight', 'flight', 'flight', 'airfare', 'flight', 'airport', 'flight', 'flight', 'flight', 'flight_time', 'airfare', 'ground_service', 'flight', 'flight', 'flight', 'flight', 'flight', 'flight', 'flight', 'flight', 'flight', 'capacity', 'flight', 'flight', 'flight', 'flight', 'airfare', 'flight', 'flight', 'flight', 'ground_service', 'flight', 'flight', 'flight', 'flight', 'flight', 'airline', 'airfare', 'flight', 'flight', 'flight', 'airport', 'flight', 'airline', 'flight', 'flight', 'flight', 'flight', 'airfare', 'flight', 'airfare', 'airfare', 'airfare', 'flight', 'flight', 'flight', 'flight', 'flight', 'flight', 'airfare', 'ground_service', 'flight', 'quantity', 'flight', 'flight', 'ground_service', 'flight', 'flight', 'abbreviation', 'flight', 'flight', 'ground_service', 'flight', 'flight', 'flight', 'flight', 'flight', 'flight', 'flight', 'airfare', 'flight', 'flight', 'airfare', 'flight', 'flight', 'flight', 'abbreviation', 'flight', 'flight', 'flight', 'flight', 'flight', 'ground_service', 'airfare', 'airfare', 'flight', 'flight', 'flight', 'flight', 'flight', 'flight', 'flight', 'aircraft', 'flight', 'flight', 'ground_service', 'flight', 'flight', 'flight', 'flight', 'airfare', 'flight', 'aircraft', 'flight', 'airfare', 'flight', 'flight', 'flight', 'flight_time', 'flight', 'flight', 'airfare', 'flight', 'flight', 'aircraft+flight+flight_no', 'city', 'flight', 'flight', 'abbreviation', 'flight', 'flight', 'flight', 'flight', 'flight', 'flight', 'flight', 'city', 'flight', 'ground_service', 'flight', 'flight', 'flight', 'flight', 'flight', 'flight', 'ground_service', 'flight', 'flight', 'flight', 'flight', 'flight', 'airline', 'flight', 'flight', 'flight', 'flight', 'flight', 'flight', 'ground_service', 'flight', 'flight', 'flight', 'airline', 'flight', 'airfare', 'flight', 'flight', 'airline', 'airfare', 'flight', 'flight', 'flight', 'flight', 'flight', 'city', 'flight', 'airfare', 'flight', 'flight', 'flight', 'flight', 'airfare', 'flight', 'flight', 'aircraft', 'flight', 'flight', 'flight', 'flight', 'flight_no', 'flight', 'ground_service', 'flight', 'flight', 'flight', 'flight', 'airfare', 'airfare', 'flight', 'ground_service', 'flight', 'flight', 'flight', 'flight', 'airfare', 'flight', 'flight', 'flight', 'flight', 'flight', 'flight', 'flight', 'airfare', 'flight', 'airfare', 'flight', 'flight', 'flight+airfare', 'flight', 'abbreviation', 'flight', 'flight', 'flight', 'flight', 'flight', 'ground_service', 'flight', 'flight', 'airfare', 'airfare', 'flight', 'flight', 'flight', 'flight', 'airfare', 'flight', 'flight', 'flight', 'flight', 'flight', 'airfare', 'flight', 'flight', 'abbreviation', 'flight', 'flight', 'flight', 'flight', 'flight', 'flight', 'flight', 'flight', 'flight', 'flight', 'flight', 'flight', 'airline', 'flight', 'abbreviation', 'flight', 'flight', 'flight', 'flight', 'flight', 'flight', 'flight', 'flight', 'flight', 'flight', 'flight', 'flight', 'flight', 'flight', 'flight', 'flight', 'flight', 'flight', 'flight', 'ground_service', 'airfare', 'flight', 'flight', 'flight', 'flight', 'flight', 'flight', 'city', 'flight', 'flight', 'flight', 'flight', 'flight', 'aircraft', 'flight', 'flight', 'flight', 'flight', 'airline', 'airfare', 'flight', 'flight', 'airfare', 'flight_time', 'abbreviation', 'flight', 'flight', 'flight', 'flight', 'flight', 'flight', 'flight', 'flight', 'flight', 'flight', 'flight', 'ground_service', 'flight', 'airline', 'flight', 'flight', 'flight', 'flight', 'abbreviation', 'flight']\n",
      "\n",
      "Encoded labels: [12 12 15 ... 12  0 12] \n",
      "\n"
     ]
    }
   ],
   "source": [
    "# Això ja no te a veure amb el vocab i no el tokenitzador: no hem de fer 3 versions\n",
    "\n",
    "label_encoder = LabelEncoder()\n",
    "train_numerical_labels = label_encoder.fit_transform(train_labels)\n",
    "\n",
    "# Estem fent One-hot encoding dels labels osigui de les intencions que l'usuari pot tenir\n",
    "print(f'Original labels: {train_labels}\\n')\n",
    "print(f'Encoded labels: {train_numerical_labels} \\n')"
   ]
  },
  {
   "cell_type": "markdown",
   "metadata": {
    "id": "7Ni3g_AsfSB6"
   },
   "source": [
    "I a continuació convertim les etiquetes a vectors one-hot:"
   ]
  },
  {
   "cell_type": "code",
   "execution_count": 132,
   "metadata": {
    "id": "Bu_KEG7hgFKO"
   },
   "outputs": [
    {
     "name": "stdout",
     "output_type": "stream",
     "text": [
      "Example: \n",
      "\n",
      "Original label: flight\n",
      "\n",
      "Numerical label: 12\n",
      "\n",
      "One-hot: [0. 0. 0. 0. 0. 0. 0. 0. 0. 0. 0. 0. 1. 0. 0. 0. 0. 0. 0. 0. 0. 0.]\n",
      "\n"
     ]
    }
   ],
   "source": [
    "num_classes = len(np.unique(train_numerical_labels))\n",
    "train_encoded_labels = to_categorical(train_numerical_labels, num_classes)\n",
    "\n",
    "print('Example: \\n')\n",
    "print(f'Original label: {train_labels[0]}\\n')\n",
    "print(f'Numerical label: {train_numerical_labels[0]}\\n')\n",
    "print(f'One-hot: {train_encoded_labels[0]}\\n')"
   ]
  },
  {
   "cell_type": "markdown",
   "metadata": {},
   "source": [
    "Veiem que hi ha un 1 allà on el índex coincideix amb l'etiqueta. "
   ]
  },
  {
   "cell_type": "code",
   "execution_count": 133,
   "metadata": {},
   "outputs": [
    {
     "name": "stdout",
     "output_type": "stream",
     "text": [
      "Original labels: ['flight', 'flight', 'flight_time', 'airfare', 'airfare', 'flight', 'aircraft', 'flight', 'flight', 'ground_service', 'flight', 'flight', 'airport', 'flight', 'flight', 'airfare', 'ground_service', 'flight', 'flight', 'flight', 'flight', 'flight', 'flight', 'aircraft', 'airfare', 'flight', 'airline', 'flight', 'ground_service', 'flight', 'airfare', 'flight', 'flight', 'flight', 'flight', 'airfare', 'airline', 'flight', 'flight', 'flight', 'distance', 'flight', 'airline', 'airline', 'flight', 'airline', 'ground_service', 'abbreviation', 'flight', 'flight', 'flight_time', 'flight', 'flight', 'ground_fare', 'flight', 'abbreviation', 'flight', 'flight', 'flight', 'flight', 'flight', 'airline', 'flight', 'ground_service', 'airline', 'flight', 'flight', 'airport', 'flight', 'flight', 'abbreviation', 'flight', 'flight', 'flight', 'flight', 'aircraft', 'airfare', 'flight', 'flight', 'flight', 'flight', 'flight', 'flight', 'flight', 'airline', 'flight', 'flight', 'flight', 'flight', 'flight', 'flight', 'flight', 'airfare', 'flight', 'distance', 'ground_service', 'quantity', 'flight', 'flight', 'flight', 'flight', 'flight', 'flight', 'flight', 'city', 'ground_fare', 'flight', 'ground_service', 'flight', 'flight', 'flight', 'flight', 'flight', 'flight', 'flight', 'flight', 'flight', 'flight', 'flight', 'flight', 'flight', 'ground_service', 'airline', 'flight', 'flight', 'flight', 'flight', 'flight', 'aircraft', 'flight', 'flight', 'flight', 'flight', 'flight', 'flight', 'flight', 'flight', 'flight', 'flight', 'airfare', 'ground_service', 'airfare', 'abbreviation', 'flight', 'airfare', 'ground_service', 'flight', 'flight', 'flight', 'flight', 'flight', 'flight', 'airfare', 'flight', 'flight', 'flight', 'flight', 'flight', 'flight', 'flight', 'flight', 'flight', 'flight', 'flight', 'flight', 'ground_service', 'flight', 'flight', 'airfare', 'flight', 'flight', 'flight', 'flight', 'flight', 'flight', 'flight', 'flight', 'flight', 'airfare', 'airfare', 'flight', 'flight', 'flight', 'flight', 'flight', 'flight', 'ground_service', 'flight', 'flight', 'ground_service', 'flight', 'flight', 'flight', 'flight', 'flight', 'flight', 'flight', 'flight', 'flight', 'flight', 'flight', 'flight', 'flight_time', 'ground_service', 'airline', 'quantity', 'flight', 'flight', 'flight', 'flight', 'airline', 'flight', 'flight', 'flight', 'flight', 'flight', 'ground_service', 'flight', 'flight', 'flight', 'flight', 'ground_service', 'flight', 'abbreviation', 'flight', 'flight', 'ground_service', 'flight', 'flight', 'airfare', 'flight', 'flight', 'flight', 'airfare', 'flight', 'flight', 'flight', 'flight', 'flight', 'flight', 'flight', 'flight', 'flight', 'flight', 'ground_service', 'flight', 'flight', 'airfare', 'flight', 'flight', 'flight', 'flight', 'flight', 'flight', 'flight', 'flight', 'flight', 'flight', 'airline', 'flight', 'flight', 'abbreviation', 'flight', 'flight', 'airfare', 'flight', 'flight', 'flight', 'flight', 'flight', 'flight', 'aircraft', 'abbreviation', 'flight', 'flight', 'airfare', 'flight', 'airline', 'flight', 'airline', 'flight', 'flight', 'flight', 'flight', 'flight', 'airfare', 'flight', 'flight', 'flight', 'flight', 'flight', 'flight', 'flight', 'flight', 'flight', 'flight', 'flight', 'flight', 'flight', 'flight', 'flight', 'flight', 'flight', 'flight', 'flight', 'flight', 'flight', 'flight', 'flight', 'flight', 'flight', 'aircraft', 'flight', 'flight', 'flight_time', 'flight', 'flight', 'flight', 'flight', 'flight', 'flight', 'flight', 'flight', 'airfare', 'flight', 'flight', 'abbreviation', 'flight', 'flight', 'quantity', 'flight_no', 'flight', 'flight', 'flight', 'flight', 'airfare', 'abbreviation', 'flight', 'ground_service', 'flight', 'flight', 'flight', 'flight', 'flight', 'flight', 'airfare', 'flight', 'flight', 'ground_service', 'flight', 'flight', 'airline', 'flight', 'quantity', 'flight', 'flight', 'flight', 'flight', 'airfare', 'flight', 'flight', 'city', 'flight', 'flight', 'flight', 'flight', 'flight', 'flight', 'airfare', 'flight', 'flight', 'flight', 'flight', 'flight', 'flight', 'flight', 'flight', 'flight', 'flight', 'flight', 'flight_time', 'flight', 'quantity', 'flight_time', 'flight', 'quantity', 'flight', 'flight', 'flight', 'airline', 'flight', 'flight', 'flight', 'flight', 'flight', 'flight', 'flight', 'flight', 'flight', 'flight', 'flight', 'flight', 'flight', 'abbreviation', 'flight', 'flight', 'airfare', 'flight', 'flight', 'flight', 'flight', 'flight', 'flight', 'flight', 'flight', 'quantity', 'flight', 'flight', 'flight', 'aircraft', 'abbreviation', 'flight', 'capacity', 'flight', 'flight', 'flight', 'flight', 'flight', 'airfare', 'flight', 'flight', 'abbreviation', 'ground_service', 'flight', 'flight', 'flight', 'flight', 'airfare', 'flight', 'flight', 'flight', 'flight', 'flight', 'airfare', 'flight', 'flight', 'flight', 'flight', 'airfare', 'flight', 'airfare', 'flight', 'quantity', 'flight', 'flight', 'flight', 'flight', 'flight', 'flight', 'flight', 'flight', 'flight', 'flight', 'flight', 'flight', 'flight', 'flight', 'flight', 'flight', 'flight', 'flight', 'flight', 'airfare', 'flight', 'flight', 'airfare', 'flight', 'flight', 'flight', 'flight', 'flight', 'flight_time', 'ground_service', 'flight', 'airfare', 'flight', 'ground_service', 'flight', 'flight', 'flight', 'flight', 'airline', 'flight', 'flight', 'flight', 'ground_service', 'flight', 'flight', 'flight', 'airline', 'airfare', 'flight', 'flight', 'airfare', 'flight', 'flight', 'flight', 'distance', 'flight', 'airfare', 'flight', 'flight', 'airfare', 'flight', 'flight', 'ground_service', 'flight', 'ground_service', 'abbreviation', 'flight', 'flight', 'flight', 'flight', 'flight', 'flight', 'flight', 'flight', 'airline', 'airfare', 'flight', 'airline', 'flight', 'flight', 'flight', 'quantity', 'flight', 'flight', 'airfare', 'flight', 'airfare', 'flight', 'flight', 'flight', 'flight', 'flight', 'flight', 'flight', 'flight', 'aircraft', 'flight', 'flight', 'flight', 'flight', 'flight', 'flight', 'flight', 'flight', 'flight', 'ground_service', 'flight', 'flight', 'flight', 'flight', 'abbreviation', 'flight', 'flight', 'airfare', 'flight', 'flight', 'flight', 'flight+airfare', 'flight', 'flight', 'ground_service', 'flight', 'flight', 'quantity', 'flight', 'flight', 'flight', 'flight', 'airline', 'flight', 'flight', 'flight', 'airfare', 'flight', 'flight', 'flight', 'abbreviation', 'flight', 'airfare', 'flight', 'flight', 'flight', 'flight', 'flight', 'ground_fare', 'airline', 'flight', 'airfare', 'ground_service', 'flight+airfare', 'airfare', 'flight', 'flight', 'flight', 'flight', 'flight', 'flight', 'flight', 'flight', 'flight', 'flight', 'airfare', 'flight', 'airline', 'flight', 'airfare', 'abbreviation', 'flight', 'airfare', 'airfare', 'flight', 'flight', 'flight', 'capacity', 'flight', 'flight', 'flight', 'flight', 'ground_service', 'flight', 'airfare', 'flight', 'airfare', 'flight', 'flight', 'flight', 'flight', 'abbreviation', 'flight', 'flight', 'flight', 'flight', 'flight_time', 'flight', 'airfare', 'flight', 'flight', 'airfare', 'flight', 'airfare', 'ground_service', 'flight', 'flight', 'airfare', 'flight', 'flight', 'flight', 'abbreviation', 'flight', 'flight', 'flight', 'airfare', 'flight', 'flight', 'flight', 'flight', 'flight', 'flight', 'airport', 'flight', 'flight', 'flight', 'flight', 'airline', 'airline', 'flight', 'flight', 'flight', 'quantity', 'airfare', 'flight', 'flight', 'flight', 'flight', 'ground_service', 'quantity', 'flight', 'flight', 'flight', 'flight', 'airfare', 'flight', 'flight', 'flight', 'flight', 'flight', 'airfare', 'flight', 'flight', 'flight', 'flight', 'flight', 'airfare', 'flight', 'flight', 'flight', 'flight', 'quantity', 'flight', 'flight', 'aircraft', 'flight', 'flight', 'flight', 'flight', 'flight', 'flight+airfare', 'flight', 'aircraft', 'airfare', 'flight', 'flight', 'flight', 'flight', 'airfare', 'aircraft', 'quantity', 'abbreviation', 'flight', 'flight', 'flight', 'aircraft', 'flight', 'flight', 'flight', 'abbreviation', 'ground_service', 'flight', 'flight', 'flight', 'airfare', 'ground_service', 'ground_service', 'flight', 'abbreviation', 'flight', 'meal', 'flight', 'flight', 'flight', 'flight', 'flight', 'flight', 'flight', 'flight', 'ground_service', 'flight', 'flight', 'flight', 'airline', 'flight', 'flight', 'flight', 'flight', 'flight', 'ground_service', 'flight', 'flight', 'flight', 'flight', 'airfare', 'flight_time', 'distance', 'flight', 'ground_service', 'airfare', 'airport', 'flight', 'flight', 'airport', 'flight', 'flight', 'flight', 'flight', 'flight', 'flight', 'flight', 'flight', 'ground_service', 'flight', 'flight', 'flight', 'flight', 'airfare', 'flight', 'airfare', 'flight', 'flight', 'flight_time', 'flight', 'flight', 'capacity', 'abbreviation', 'flight', 'flight', 'flight', 'flight', 'airfare', 'airfare', 'ground_service', 'flight', 'flight', 'flight', 'flight', 'flight_time', 'flight', 'flight', 'airfare', 'flight', 'flight', 'ground_fare', 'flight', 'airfare', 'flight', 'abbreviation', 'aircraft', 'flight', 'aircraft', 'flight', 'flight', 'airfare', 'flight', 'flight', 'airline', 'abbreviation', 'flight', 'abbreviation', 'flight', 'restriction', 'flight', 'flight', 'flight', 'airfare', 'flight', 'flight', 'flight', 'flight', 'aircraft', 'flight', 'flight', 'flight', 'flight', 'flight', 'ground_service', 'flight', 'flight', 'flight+airfare', 'flight', 'flight', 'flight', 'flight', 'flight', 'flight', 'flight', 'abbreviation', 'flight', 'flight', 'flight', 'flight', 'flight', 'abbreviation', 'flight', 'flight', 'abbreviation', 'airfare', 'flight', 'flight_no', 'airfare', 'flight', 'airfare', 'flight', 'flight', 'flight', 'flight', 'aircraft', 'flight', 'ground_service', 'ground_service', 'flight', 'flight', 'flight', 'flight', 'flight', 'airfare', 'flight', 'quantity', 'flight', 'distance', 'flight', 'airfare', 'flight', 'ground_service', 'flight', 'flight', 'flight', 'flight', 'flight', 'flight', 'flight', 'flight', 'airfare', 'flight', 'flight', 'flight', 'flight', 'flight', 'flight', 'ground_service', 'flight', 'airfare', 'flight', 'flight', 'flight', 'flight', 'flight', 'flight', 'flight', 'flight', 'flight', 'flight', 'flight', 'flight', 'flight', 'flight', 'ground_service', 'flight', 'flight', 'flight', 'flight', 'quantity', 'flight', 'flight', 'flight', 'flight', 'flight', 'flight', 'flight', 'flight_time', 'ground_service', 'flight', 'airline', 'flight', 'flight', 'flight', 'aircraft', 'flight_time', 'flight', 'airfare', 'flight_no', 'flight', 'airline', 'flight', 'flight', 'flight', 'flight', 'airfare', 'flight', 'flight', 'flight', 'abbreviation', 'flight', 'flight', 'flight', 'flight', 'airfare', 'flight', 'flight', 'flight', 'airline', 'abbreviation', 'flight', 'flight', 'flight', 'flight', 'airline', 'flight', 'flight', 'flight', 'flight', 'flight', 'airline', 'flight', 'flight', 'flight', 'flight', 'flight', 'flight', 'flight', 'flight', 'flight', 'flight', 'flight', 'flight', 'airline', 'airfare', 'flight', 'flight', 'flight', 'flight', 'flight', 'flight', 'flight', 'capacity', 'flight', 'flight', 'flight', 'flight', 'flight', 'airfare', 'flight', 'flight', 'flight', 'flight', 'abbreviation', 'flight', 'airfare', 'flight_time', 'flight', 'flight', 'flight', 'flight', 'airline', 'flight', 'flight', 'flight', 'flight', 'flight', 'flight', 'flight', 'flight', 'flight', 'flight', 'flight', 'flight', 'flight', 'flight', 'airfare', 'flight', 'flight', 'flight', 'flight', 'flight', 'flight', 'flight', 'airfare', 'airfare', 'flight', 'airfare', 'flight', 'flight', 'ground_service', 'flight', 'flight', 'flight', 'flight', 'flight', 'flight', 'flight', 'airfare', 'flight', 'flight', 'flight', 'flight', 'flight', 'flight', 'flight', 'flight', 'airfare', 'flight', 'flight', 'flight', 'flight', 'flight', 'flight', 'flight', 'flight_time', 'flight', 'flight', 'flight', 'flight', 'flight', 'flight', 'aircraft', 'flight', 'flight', 'flight', 'flight', 'flight', 'flight', 'flight', 'flight', 'flight', 'flight', 'flight', 'flight', 'flight', 'flight', 'airline', 'airline', 'flight', 'flight', 'flight', 'airfare', 'airline', 'airline', 'flight', 'airfare', 'flight', 'flight', 'aircraft', 'airfare', 'flight', 'flight', 'flight', 'flight', 'flight', 'flight', 'flight', 'flight', 'flight', 'flight', 'abbreviation', 'flight', 'airfare', 'flight', 'airline', 'airfare', 'flight', 'flight', 'airline', 'quantity', 'flight', 'flight', 'airfare', 'flight', 'abbreviation', 'flight', 'flight', 'ground_service', 'flight', 'ground_service', 'flight', 'airfare', 'flight', 'flight', 'flight', 'flight', 'flight', 'city', 'abbreviation', 'flight', 'flight', 'flight', 'flight', 'abbreviation', 'flight', 'flight', 'flight', 'airfare', 'flight', 'flight', 'flight', 'flight_time', 'airline', 'flight', 'flight', 'flight', 'flight', 'flight', 'flight', 'flight', 'flight', 'restriction', 'flight', 'flight', 'flight', 'flight', 'flight', 'flight', 'flight', 'flight', 'flight', 'flight', 'flight', 'flight', 'flight', 'aircraft', 'flight', 'airfare', 'flight', 'flight', 'ground_service', 'flight', 'aircraft', 'flight', 'airfare', 'flight', 'airfare', 'flight', 'flight', 'flight', 'flight', 'flight', 'flight', 'flight', 'flight', 'flight', 'flight', 'ground_service', 'aircraft', 'abbreviation', 'flight', 'airfare', 'flight', 'distance', 'flight', 'airfare', 'aircraft', 'flight', 'flight', 'flight', 'flight', 'flight', 'ground_service', 'flight', 'flight', 'flight', 'flight', 'flight', 'flight', 'flight', 'flight', 'flight', 'flight', 'flight', 'flight', 'flight', 'airfare', 'flight', 'airfare', 'flight', 'flight', 'flight_no', 'flight', 'flight', 'flight', 'airfare', 'flight', 'flight', 'aircraft', 'airline', 'flight', 'flight', 'flight', 'flight', 'flight', 'flight', 'flight', 'aircraft', 'flight', 'flight', 'airfare', 'flight', 'aircraft', 'flight', 'quantity', 'flight', 'abbreviation', 'flight', 'flight', 'flight', 'flight', 'flight', 'flight', 'flight', 'flight', 'flight', 'ground_service', 'flight', 'flight', 'flight', 'flight', 'flight', 'flight', 'flight', 'flight', 'flight', 'ground_service', 'flight', 'quantity', 'flight', 'ground_fare', 'flight', 'flight', 'flight', 'flight', 'quantity', 'flight', 'flight', 'flight', 'flight', 'flight', 'flight', 'flight', 'flight', 'ground_service', 'flight', 'abbreviation', 'flight', 'flight', 'flight', 'flight', 'flight+airfare', 'airfare', 'airfare', 'flight', 'flight', 'flight', 'flight', 'flight', 'flight', 'flight', 'flight', 'ground_service', 'flight', 'flight', 'flight', 'airfare', 'flight', 'flight', 'flight', 'aircraft', 'flight', 'flight', 'flight', 'flight', 'flight', 'flight', 'flight', 'ground_service', 'flight', 'ground_service', 'ground_fare', 'abbreviation', 'airline', 'airfare', 'airfare', 'flight', 'flight', 'flight', 'flight', 'flight', 'flight', 'flight', 'flight', 'flight', 'flight', 'flight', 'airline', 'airfare', 'airfare', 'flight', 'flight', 'flight', 'ground_service', 'flight', 'flight', 'flight', 'flight', 'flight', 'flight', 'airfare', 'flight', 'flight', 'flight', 'airfare', 'flight', 'flight', 'flight', 'flight', 'flight', 'flight', 'flight', 'flight', 'ground_service', 'flight', 'ground_service', 'flight', 'flight', 'flight', 'flight', 'flight', 'flight', 'abbreviation', 'flight', 'flight', 'flight', 'ground_fare', 'flight', 'flight', 'flight', 'ground_service', 'flight', 'aircraft', 'ground_service', 'flight', 'airline', 'flight', 'ground_service', 'flight', 'flight', 'flight', 'flight', 'abbreviation', 'ground_service', 'flight', 'flight', 'flight', 'flight', 'flight', 'flight', 'airfare', 'airfare', 'quantity', 'flight', 'flight', 'flight', 'flight', 'flight', 'flight', 'flight', 'flight', 'abbreviation', 'flight', 'flight', 'flight', 'flight', 'ground_service', 'city', 'flight', 'airfare', 'flight', 'abbreviation', 'flight', 'flight', 'airport', 'flight', 'flight', 'flight', 'flight', 'airfare', 'ground_service', 'airfare', 'ground_service', 'flight', 'flight', 'flight', 'airline', 'flight', 'flight', 'flight', 'flight', 'flight', 'ground_service', 'flight', 'flight', 'flight', 'flight', 'flight', 'flight', 'flight', 'airfare', 'flight', 'flight', 'abbreviation', 'flight', 'flight', 'flight', 'flight', 'flight', 'flight', 'flight', 'flight', 'flight', 'flight', 'flight', 'flight', 'airfare', 'flight', 'flight', 'airfare', 'flight', 'flight', 'aircraft', 'flight', 'flight', 'flight', 'flight', 'flight', 'flight', 'flight', 'flight', 'flight', 'flight', 'ground_service', 'airline', 'flight_time', 'airfare', 'flight', 'airfare', 'flight', 'flight', 'flight', 'flight', 'flight', 'aircraft', 'flight', 'flight', 'flight', 'flight', 'flight', 'flight', 'airfare', 'airfare', 'flight', 'flight', 'flight', 'flight', 'flight', 'flight', 'flight', 'airfare', 'airfare', 'flight', 'flight', 'flight', 'flight', 'flight', 'flight', 'flight', 'flight', 'flight', 'flight', 'flight', 'flight', 'flight', 'flight', 'ground_service', 'capacity', 'flight', 'flight', 'flight', 'flight', 'abbreviation', 'flight', 'flight', 'flight', 'airfare', 'flight', 'flight', 'flight', 'flight', 'flight', 'flight', 'flight', 'aircraft', 'flight', 'flight', 'flight', 'aircraft', 'abbreviation', 'flight', 'flight', 'flight', 'abbreviation', 'flight', 'flight', 'flight', 'airline', 'flight', 'flight', 'distance', 'flight', 'flight', 'flight', 'flight', 'flight_time', 'flight', 'airfare', 'flight', 'flight', 'flight', 'flight', 'flight', 'airfare', 'flight', 'flight', 'flight', 'quantity', 'quantity', 'flight', 'flight', 'flight', 'airfare', 'flight', 'flight', 'quantity', 'flight', 'ground_service', 'flight', 'flight', 'flight', 'flight', 'flight', 'flight', 'flight', 'flight', 'flight', 'flight', 'flight', 'flight', 'flight', 'flight', 'flight', 'flight', 'flight', 'flight', 'flight', 'flight', 'flight', 'flight', 'airfare', 'flight', 'flight', 'airfare', 'flight', 'flight', 'flight', 'airline', 'flight', 'flight', 'flight', 'flight_time', 'flight', 'flight', 'flight', 'flight', 'flight', 'flight', 'flight', 'flight', 'ground_service', 'flight', 'flight', 'flight', 'abbreviation', 'flight', 'airfare', 'flight', 'flight', 'airfare', 'flight', 'flight', 'flight', 'flight', 'flight', 'airline', 'flight', 'flight', 'flight', 'flight', 'flight', 'abbreviation', 'flight', 'flight', 'flight', 'flight', 'flight', 'flight', 'flight', 'flight', 'flight_no', 'ground_service', 'flight', 'flight', 'flight', 'flight', 'flight', 'flight_no', 'flight', 'flight', 'flight', 'ground_service', 'flight', 'airfare', 'flight_time', 'flight', 'flight', 'flight', 'flight', 'flight', 'flight', 'flight', 'flight', 'flight', 'flight', 'flight', 'airfare', 'flight', 'ground_service', 'flight', 'flight', 'abbreviation', 'flight', 'flight', 'flight', 'flight', 'quantity', 'flight', 'flight', 'flight', 'flight', 'flight', 'flight', 'flight', 'flight', 'flight', 'flight', 'aircraft', 'flight', 'flight', 'flight', 'flight', 'airfare', 'flight', 'ground_service', 'flight', 'airfare', 'flight', 'flight', 'flight', 'flight', 'flight', 'flight', 'flight', 'flight', 'airfare', 'flight', 'airfare', 'airline', 'flight', 'flight', 'flight', 'flight', 'flight', 'flight', 'flight+airfare', 'flight', 'flight', 'flight', 'airfare', 'flight', 'flight', 'flight', 'airline', 'flight', 'flight', 'flight', 'flight', 'flight', 'ground_service', 'flight', 'flight', 'airline', 'flight', 'flight', 'airfare', 'flight', 'flight', 'ground_service', 'quantity', 'flight', 'airline', 'ground_service', 'airfare', 'flight', 'flight', 'flight', 'flight', 'airfare', 'flight_time', 'flight', 'flight', 'flight', 'flight', 'flight', 'airfare', 'flight', 'flight', 'flight', 'city', 'flight', 'flight', 'flight', 'flight', 'flight', 'ground_service', 'flight', 'ground_service', 'flight', 'flight', 'flight', 'airfare', 'ground_service', 'airfare', 'airfare', 'abbreviation', 'flight', 'airfare', 'flight', 'flight', 'flight', 'flight', 'flight', 'flight', 'flight', 'flight', 'flight', 'flight', 'flight', 'flight', 'airline', 'flight', 'flight', 'flight', 'airfare', 'ground_service', 'flight', 'flight', 'aircraft', 'flight', 'airfare', 'flight', 'flight', 'flight', 'flight', 'flight', 'flight', 'flight', 'flight', 'flight', 'airfare', 'quantity', 'flight', 'flight', 'flight', 'flight', 'flight', 'airline', 'flight', 'flight', 'ground_service', 'capacity', 'flight', 'ground_service', 'flight', 'flight', 'flight', 'flight', 'flight', 'flight', 'flight', 'airfare', 'flight', 'flight', 'flight', 'flight', 'airfare', 'airline', 'flight', 'flight', 'airfare', 'flight', 'flight', 'quantity', 'ground_service', 'flight', 'flight', 'flight', 'quantity', 'airline', 'ground_service', 'flight', 'flight', 'flight', 'flight', 'flight', 'abbreviation', 'flight', 'flight', 'flight', 'flight', 'distance', 'flight', 'flight', 'flight', 'flight', 'ground_service', 'flight', 'flight', 'flight_time', 'flight', 'flight', 'airfare', 'flight', 'flight', 'flight', 'flight', 'abbreviation', 'flight', 'flight', 'flight', 'airfare', 'flight', 'airfare', 'flight', 'ground_service', 'flight', 'flight', 'airline', 'flight', 'flight', 'airline', 'flight', 'flight', 'aircraft', 'flight', 'flight', 'flight', 'ground_service', 'flight', 'flight', 'flight', 'flight', 'flight', 'airfare', 'flight', 'flight', 'flight', 'flight', 'flight', 'flight', 'flight', 'airfare', 'flight', 'airfare', 'airline', 'flight', 'abbreviation', 'flight', 'flight', 'ground_service', 'flight', 'flight', 'flight', 'airfare', 'flight', 'flight', 'flight', 'flight', 'flight_time', 'ground_service', 'flight', 'flight', 'flight', 'flight', 'flight', 'airfare', 'flight', 'flight', 'flight', 'flight', 'flight', 'ground_service', 'ground_service', 'flight', 'ground_service', 'flight', 'flight', 'flight', 'flight', 'airfare', 'flight', 'flight', 'flight', 'quantity', 'flight', 'flight', 'flight', 'flight', 'flight', 'airline', 'flight', 'flight', 'ground_service', 'flight', 'flight+airfare', 'flight', 'abbreviation', 'flight', 'flight', 'flight', 'flight', 'capacity', 'airfare', 'flight', 'airfare', 'airline+flight_no', 'airport', 'airline', 'airfare', 'airfare', 'flight', 'airline', 'flight', 'ground_service', 'flight', 'flight', 'flight', 'flight', 'flight', 'flight', 'flight', 'ground_service', 'aircraft', 'flight', 'flight', 'quantity', 'flight', 'flight', 'flight', 'flight', 'flight', 'flight', 'flight', 'ground_fare', 'flight', 'flight', 'flight', 'flight', 'flight', 'flight', 'flight', 'abbreviation', 'flight', 'flight', 'flight', 'flight', 'flight', 'flight', 'flight', 'abbreviation', 'flight', 'flight', 'airline', 'flight', 'flight', 'flight', 'flight', 'flight', 'flight', 'flight', 'flight', 'flight', 'flight', 'aircraft', 'flight', 'flight', 'city', 'flight', 'flight', 'flight', 'flight', 'flight', 'flight', 'airfare', 'flight', 'flight', 'flight', 'flight', 'flight', 'flight', 'flight', 'flight', 'flight', 'flight', 'flight', 'flight', 'flight', 'quantity', 'airfare', 'flight', 'flight', 'airline', 'flight', 'flight', 'flight', 'flight', 'flight', 'abbreviation', 'abbreviation', 'aircraft', 'flight', 'flight', 'flight', 'flight', 'airport', 'aircraft', 'flight', 'flight', 'airfare', 'flight', 'flight', 'ground_fare', 'flight', 'flight', 'flight', 'flight', 'flight', 'flight', 'flight', 'flight', 'flight', 'flight', 'airline', 'flight', 'flight', 'flight', 'flight', 'flight', 'flight', 'flight', 'flight', 'flight', 'flight', 'flight', 'airfare', 'flight', 'flight_time', 'abbreviation', 'flight', 'flight', 'flight', 'flight', 'flight', 'flight', 'flight', 'flight', 'flight', 'flight', 'flight', 'flight', 'flight', 'capacity', 'flight', 'flight', 'airfare', 'flight', 'flight', 'flight', 'flight', 'flight', 'flight', 'flight', 'flight', 'flight', 'quantity', 'flight', 'flight', 'flight', 'flight', 'aircraft', 'flight', 'flight', 'flight', 'flight', 'airline', 'flight', 'flight', 'flight', 'airfare', 'flight', 'airfare', 'flight_time', 'flight', 'flight_time', 'flight', 'flight', 'flight', 'airfare', 'flight', 'flight', 'airfare', 'flight', 'flight', 'flight', 'flight', 'flight', 'flight', 'flight', 'flight', 'ground_service', 'flight', 'flight', 'flight', 'ground_service', 'flight', 'airline', 'flight', 'flight', 'flight', 'flight', 'aircraft', 'ground_service', 'airline', 'flight', 'flight', 'airfare', 'flight', 'flight', 'flight', 'flight', 'flight', 'flight', 'flight', 'ground_service', 'flight', 'flight', 'flight', 'aircraft', 'flight', 'flight', 'flight', 'flight', 'flight', 'flight', 'flight', 'flight', 'ground_service', 'flight', 'quantity', 'flight', 'flight', 'flight', 'flight', 'flight', 'flight', 'airfare', 'flight', 'distance', 'flight', 'flight', 'ground_service', 'flight', 'flight', 'flight', 'ground_service', 'flight', 'flight', 'flight', 'flight', 'flight', 'flight', 'flight', 'flight', 'flight', 'airfare', 'flight', 'flight', 'flight', 'flight', 'ground_service', 'flight', 'airfare', 'airline', 'flight', 'flight', 'flight', 'airline', 'flight', 'flight', 'flight', 'flight', 'flight', 'flight', 'flight', 'flight', 'flight', 'flight', 'flight', 'flight', 'flight', 'flight', 'flight', 'flight', 'flight', 'flight', 'flight', 'flight', 'flight', 'flight', 'flight', 'airfare', 'flight', 'flight', 'flight', 'flight', 'flight', 'flight', 'flight', 'flight', 'airfare', 'flight', 'airfare', 'airfare', 'flight_time', 'ground_service', 'flight', 'ground_service', 'flight+airfare', 'flight', 'capacity', 'flight', 'abbreviation', 'flight', 'distance', 'flight', 'flight', 'airfare', 'flight', 'flight', 'flight', 'flight', 'airfare', 'flight', 'airfare', 'flight', 'flight', 'flight', 'airline', 'flight', 'flight', 'ground_service', 'flight', 'flight', 'flight', 'ground_fare', 'flight', 'airline', 'flight', 'flight', 'flight', 'flight', 'flight', 'flight', 'abbreviation', 'ground_service', 'flight', 'flight', 'flight', 'flight', 'flight', 'airfare', 'flight', 'flight', 'flight', 'ground_service', 'flight', 'flight', 'flight', 'abbreviation', 'aircraft', 'flight', 'flight', 'flight', 'flight', 'airfare', 'flight', 'ground_service', 'flight', 'flight', 'flight', 'flight', 'flight', 'ground_service', 'flight', 'flight', 'flight', 'flight', 'airport', 'airfare', 'flight', 'flight', 'flight', 'flight', 'airfare', 'flight', 'ground_service', 'flight', 'flight', 'airfare', 'flight', 'airfare', 'flight', 'flight', 'flight', 'airline', 'flight', 'ground_service', 'flight', 'ground_service', 'flight', 'flight', 'flight', 'airline', 'capacity', 'flight', 'flight', 'flight', 'flight', 'flight', 'airline', 'flight', 'flight', 'airfare', 'airfare', 'flight', 'airfare', 'flight', 'airline', 'flight', 'flight', 'abbreviation', 'flight', 'flight', 'flight', 'flight', 'flight', 'flight', 'flight', 'ground_service', 'abbreviation', 'flight', 'aircraft', 'flight', 'airline', 'ground_service', 'flight', 'flight', 'flight', 'airfare', 'flight', 'flight', 'ground_service', 'flight', 'flight', 'flight', 'flight', 'flight', 'flight', 'quantity', 'flight', 'ground_service', 'flight', 'ground_service', 'flight', 'flight', 'flight', 'flight', 'flight', 'flight', 'airfare', 'flight', 'airline', 'flight', 'airfare', 'flight', 'flight', 'flight', 'flight', 'flight', 'flight', 'flight', 'flight', 'aircraft', 'flight', 'airfare', 'flight', 'flight', 'flight', 'flight', 'airfare', 'flight', 'flight', 'flight', 'flight', 'flight', 'flight', 'flight', 'flight', 'flight', 'flight', 'meal', 'flight', 'flight', 'flight', 'flight', 'flight', 'flight', 'flight', 'flight', 'flight', 'flight', 'flight', 'flight', 'flight', 'ground_service', 'flight', 'airline', 'flight', 'flight', 'flight', 'flight', 'flight', 'aircraft', 'abbreviation', 'ground_service', 'flight', 'airfare', 'abbreviation', 'flight', 'ground_service', 'flight', 'flight', 'abbreviation', 'flight', 'flight', 'flight', 'flight', 'abbreviation', 'flight', 'flight', 'ground_service', 'aircraft', 'flight', 'flight', 'flight', 'airport', 'flight', 'flight', 'flight', 'airfare', 'flight', 'flight', 'flight', 'flight', 'flight', 'flight', 'flight', 'flight', 'flight', 'flight', 'flight', 'flight', 'flight', 'flight', 'ground_service', 'airfare', 'flight', 'flight', 'flight', 'airfare', 'flight', 'airfare', 'flight', 'flight', 'flight', 'flight', 'flight', 'flight', 'ground_service', 'flight', 'city', 'flight', 'flight', 'flight', 'abbreviation', 'flight', 'ground_service', 'flight', 'flight', 'airline', 'flight', 'ground_service', 'aircraft', 'airfare', 'flight', 'flight', 'flight', 'flight', 'airfare', 'flight', 'quantity', 'abbreviation', 'flight', 'flight', 'flight', 'flight', 'flight', 'flight', 'flight', 'flight', 'flight', 'airline', 'airfare', 'flight', 'ground_service', 'flight', 'airfare', 'flight', 'flight', 'flight', 'flight', 'flight', 'flight', 'abbreviation', 'flight', 'flight', 'flight', 'flight', 'airfare', 'flight', 'flight', 'flight', 'flight', 'airfare', 'ground_service', 'flight', 'flight_no', 'flight', 'ground_service', 'flight', 'airline', 'flight', 'airline', 'flight', 'flight', 'quantity', 'flight', 'flight', 'flight', 'flight', 'flight', 'flight', 'flight', 'flight', 'flight', 'flight', 'flight', 'aircraft', 'flight', 'flight', 'flight', 'flight', 'flight', 'distance', 'flight', 'flight', 'flight', 'flight', 'ground_service+ground_fare', 'flight', 'flight', 'abbreviation', 'flight', 'flight', 'flight', 'flight', 'flight', 'flight', 'flight', 'flight', 'flight', 'flight', 'flight', 'flight', 'airfare', 'airline', 'airfare', 'flight', 'flight', 'flight', 'airfare', 'flight', 'ground_fare', 'flight', 'abbreviation', 'capacity', 'aircraft', 'airfare', 'abbreviation', 'flight', 'flight', 'flight', 'flight', 'flight', 'flight', 'flight', 'flight', 'flight', 'flight', 'flight', 'flight', 'flight', 'ground_service', 'flight', 'flight', 'ground_service', 'flight', 'flight', 'flight', 'airline', 'flight', 'flight', 'ground_service', 'flight', 'flight', 'abbreviation', 'flight', 'ground_service', 'flight', 'flight', 'flight', 'flight', 'flight', 'ground_service', 'flight', 'flight', 'flight', 'distance', 'flight', 'flight', 'flight', 'flight', 'flight', 'flight', 'abbreviation', 'flight', 'flight', 'flight', 'airline', 'flight', 'flight', 'flight', 'flight', 'flight', 'flight', 'flight', 'flight', 'flight', 'flight', 'flight', 'airfare', 'ground_service', 'airfare', 'flight', 'flight', 'flight', 'flight', 'flight_time', 'flight', 'flight', 'flight', 'flight', 'flight', 'flight', 'flight', 'flight', 'airline', 'flight', 'flight', 'flight', 'flight', 'flight', 'flight', 'flight', 'flight', 'flight', 'airfare+flight_time', 'flight', 'abbreviation', 'flight', 'flight', 'flight', 'flight', 'flight', 'flight', 'flight', 'airline', 'flight', 'flight', 'flight', 'flight', 'airline', 'flight', 'flight', 'flight_time', 'ground_service', 'flight', 'flight', 'flight', 'aircraft', 'airline', 'flight', 'flight', 'flight', 'flight', 'flight', 'flight', 'flight', 'flight', 'flight', 'flight', 'flight', 'flight', 'flight', 'flight', 'airfare', 'flight', 'flight', 'flight', 'flight', 'airfare', 'ground_service', 'ground_service', 'flight', 'flight', 'flight', 'flight', 'flight', 'flight', 'flight', 'flight', 'ground_service', 'flight', 'flight', 'abbreviation', 'abbreviation', 'abbreviation', 'quantity', 'flight', 'flight+airfare', 'aircraft', 'flight', 'flight', 'ground_service', 'ground_service', 'flight', 'flight', 'flight', 'flight', 'flight', 'flight', 'flight', 'flight', 'flight', 'flight', 'flight', 'abbreviation', 'ground_service', 'flight', 'flight', 'flight', 'flight', 'flight', 'flight', 'abbreviation', 'flight', 'flight', 'flight', 'flight', 'flight', 'ground_service', 'flight', 'flight', 'flight', 'airfare', 'flight', 'flight', 'airline', 'airline', 'flight', 'airline', 'ground_service', 'flight', 'flight', 'ground_service', 'flight', 'flight', 'airfare', 'flight', 'flight', 'flight', 'flight', 'flight', 'airline', 'flight_no', 'flight', 'city', 'flight', 'flight', 'quantity', 'flight', 'flight', 'abbreviation', 'flight', 'quantity', 'flight', 'quantity', 'flight', 'quantity', 'ground_fare', 'airfare', 'ground_service', 'flight', 'abbreviation', 'flight', 'ground_service', 'flight', 'flight', 'flight', 'flight+airfare', 'airfare', 'flight', 'flight', 'abbreviation', 'flight', 'flight', 'airline', 'flight', 'flight', 'flight', 'flight', 'flight', 'flight', 'airfare', 'flight', 'airfare', 'flight', 'flight', 'aircraft', 'flight', 'ground_service', 'flight', 'flight', 'flight', 'flight', 'flight', 'flight', 'airfare', 'flight', 'flight_time', 'flight', 'abbreviation', 'flight_time', 'flight', 'abbreviation', 'flight', 'flight', 'flight', 'flight', 'flight', 'flight', 'ground_service', 'flight', 'flight', 'flight', 'flight', 'flight', 'aircraft', 'flight', 'flight', 'ground_service', 'flight', 'ground_fare', 'flight', 'flight', 'capacity', 'airfare', 'airline', 'flight', 'airfare', 'flight', 'airfare', 'flight', 'flight', 'flight', 'flight', 'airfare', 'flight_time', 'flight', 'flight', 'flight', 'flight', 'flight', 'flight', 'flight', 'flight', 'flight', 'aircraft', 'aircraft', 'flight', 'flight', 'flight', 'flight', 'aircraft', 'flight', 'flight', 'flight_time', 'flight', 'flight', 'airfare', 'flight', 'flight', 'airfare', 'airline', 'flight', 'flight', 'flight', 'flight', 'flight', 'flight', 'flight', 'flight', 'flight', 'flight', 'flight', 'flight', 'flight', 'flight', 'flight', 'flight', 'flight', 'flight', 'flight', 'flight', 'flight_time', 'flight', 'flight', 'flight', 'flight', 'flight', 'airfare', 'airport', 'flight', 'flight', 'flight', 'ground_fare', 'flight', 'airfare', 'flight', 'flight', 'airfare', 'airfare', 'flight', 'abbreviation', 'flight', 'flight', 'ground_service', 'flight', 'flight', 'flight', 'flight', 'flight', 'abbreviation', 'flight', 'flight', 'flight', 'flight', 'flight', 'flight', 'flight', 'flight', 'ground_service', 'flight', 'flight', 'flight_time', 'flight', 'flight', 'flight', 'flight', 'abbreviation', 'flight', 'flight', 'ground_fare', 'flight', 'flight', 'flight', 'flight', 'distance', 'airline', 'abbreviation', 'flight', 'airfare', 'flight', 'flight', 'airfare', 'flight', 'flight', 'flight', 'flight', 'flight', 'distance', 'airfare', 'flight', 'flight', 'flight', 'aircraft', 'airline', 'flight', 'flight', 'abbreviation', 'flight', 'flight', 'flight', 'distance', 'flight', 'flight', 'flight', 'flight', 'flight', 'flight', 'flight+airfare', 'flight', 'flight', 'flight', 'ground_service', 'flight', 'flight', 'flight', 'airline', 'flight', 'flight', 'flight', 'flight', 'flight', 'flight', 'flight', 'flight', 'flight', 'airfare', 'flight', 'airline', 'flight', 'flight', 'flight', 'flight', 'flight', 'abbreviation', 'flight', 'flight', 'flight', 'flight', 'flight', 'flight', 'flight_time', 'flight', 'meal', 'flight', 'flight', 'flight', 'airfare', 'flight', 'flight', 'flight', 'flight', 'ground_service', 'flight', 'flight', 'flight', 'flight', 'flight', 'ground_service', 'flight', 'flight', 'flight', 'flight', 'city', 'flight', 'flight', 'flight', 'airline', 'flight', 'flight', 'flight', 'flight', 'airfare', 'abbreviation', 'flight', 'flight', 'flight', 'abbreviation', 'airfare', 'airfare', 'flight', 'flight', 'flight', 'flight', 'flight', 'flight', 'ground_service', 'flight', 'flight', 'flight', 'flight', 'flight', 'flight_time', 'flight', 'flight', 'flight', 'flight', 'flight_time', 'flight', 'flight', 'flight', 'flight', 'flight', 'flight', 'flight', 'flight', 'flight', 'flight', 'flight', 'airfare', 'flight', 'flight', 'flight', 'flight', 'flight', 'flight', 'flight', 'flight', 'flight', 'airline+flight_no', 'flight', 'flight', 'ground_service', 'flight', 'flight', 'flight', 'flight', 'flight', 'flight', 'flight', 'flight', 'flight', 'airfare', 'flight', 'flight', 'flight', 'flight', 'flight', 'airfare', 'flight', 'flight', 'quantity', 'flight', 'flight', 'flight', 'flight', 'flight', 'flight', 'flight', 'airfare', 'airfare', 'flight', 'airfare', 'airfare', 'flight', 'flight', 'quantity', 'flight', 'airfare', 'ground_service', 'flight', 'flight', 'flight', 'flight', 'flight', 'airline', 'airfare', 'flight', 'flight', 'flight', 'flight', 'flight', 'airfare', 'flight', 'flight', 'flight', 'airfare', 'flight', 'flight', 'flight', 'flight', 'flight', 'flight', 'flight', 'flight', 'ground_service', 'flight', 'flight', 'flight', 'flight+airfare', 'abbreviation', 'flight', 'flight', 'flight', 'abbreviation', 'flight', 'flight', 'flight', 'flight', 'airfare', 'flight', 'flight', 'flight', 'flight', 'flight', 'flight', 'flight', 'flight', 'flight', 'flight', 'flight', 'flight', 'flight', 'flight', 'flight', 'flight', 'flight', 'flight', 'flight', 'flight', 'flight', 'flight', 'ground_service', 'flight', 'flight', 'flight', 'flight', 'flight', 'airfare', 'flight', 'airfare', 'flight', 'abbreviation', 'flight', 'flight', 'aircraft', 'flight', 'flight', 'flight', 'airfare', 'flight', 'flight', 'airfare', 'flight', 'flight', 'flight', 'flight', 'airline', 'flight', 'flight', 'flight', 'flight', 'flight', 'ground_service', 'flight', 'flight', 'flight', 'airline', 'flight', 'flight', 'flight', 'flight', 'airfare', 'flight', 'abbreviation', 'flight', 'flight', 'flight', 'flight', 'flight', 'flight', 'flight', 'flight', 'flight', 'abbreviation', 'ground_service', 'flight', 'flight', 'airfare', 'airline', 'flight', 'flight', 'flight', 'abbreviation', 'flight', 'quantity', 'flight', 'flight', 'flight', 'ground_service', 'flight', 'flight', 'ground_service', 'flight', 'cheapest', 'flight', 'flight', 'flight', 'airfare', 'quantity', 'airfare', 'flight', 'flight', 'flight', 'flight', 'ground_service', 'flight', 'flight', 'ground_service', 'flight_time', 'airfare', 'flight', 'flight', 'flight', 'flight', 'flight', 'flight', 'airline', 'flight', 'airline', 'flight', 'flight', 'flight', 'flight', 'flight', 'flight', 'flight', 'flight', 'flight', 'flight', 'flight', 'flight', 'ground_service', 'flight', 'flight', 'flight', 'city', 'abbreviation', 'flight', 'flight', 'flight', 'flight', 'flight', 'flight', 'flight', 'flight', 'flight_time', 'abbreviation', 'flight', 'flight', 'airfare', 'flight', 'flight', 'airline', 'airfare', 'flight', 'flight', 'airline', 'aircraft', 'flight', 'quantity', 'flight', 'flight', 'aircraft', 'flight', 'flight', 'flight', 'ground_service', 'flight', 'airfare', 'flight', 'airfare', 'flight', 'flight', 'flight', 'flight', 'flight', 'ground_service', 'flight', 'airline', 'flight', 'flight', 'ground_service', 'airfare', 'airfare', 'flight', 'flight', 'flight', 'abbreviation', 'flight', 'flight', 'flight', 'flight', 'flight', 'flight', 'flight', 'flight', 'airfare', 'flight', 'flight', 'flight', 'flight', 'flight', 'flight', 'flight', 'flight', 'flight', 'flight', 'airfare', 'flight', 'flight', 'flight', 'flight', 'flight', 'flight', 'flight', 'flight', 'flight', 'flight', 'flight', 'flight', 'flight', 'flight', 'flight', 'flight', 'airfare', 'flight', 'flight', 'flight', 'flight', 'airfare', 'flight', 'flight', 'flight', 'flight', 'airline', 'flight', 'flight', 'flight', 'flight', 'flight', 'ground_service', 'flight', 'flight', 'flight', 'flight', 'flight', 'flight', 'airfare', 'flight_time', 'flight', 'flight', 'flight', 'flight', 'airfare', 'flight', 'flight', 'abbreviation', 'flight', 'flight', 'ground_service', 'abbreviation', 'flight_no', 'flight', 'airfare', 'flight', 'flight', 'flight', 'airfare', 'flight', 'ground_service', 'flight', 'city', 'quantity', 'airport', 'airfare', 'flight', 'flight', 'flight', 'flight', 'airfare', 'flight', 'flight', 'flight', 'flight', 'flight', 'flight', 'flight', 'flight', 'flight', 'flight', 'flight', 'flight', 'flight', 'ground_service', 'flight', 'airfare', 'flight', 'flight', 'ground_service', 'quantity', 'flight', 'flight', 'flight', 'airline', 'abbreviation', 'flight', 'flight+airfare', 'airline', 'flight', 'flight', 'flight', 'flight', 'flight', 'flight', 'ground_service', 'city', 'flight', 'flight', 'flight', 'flight', 'airfare', 'flight_no', 'airfare', 'flight', 'ground_service', 'flight', 'flight', 'ground_service', 'flight', 'flight', 'flight', 'flight', 'abbreviation', 'flight', 'flight', 'flight', 'flight', 'flight', 'flight', 'abbreviation', 'airfare', 'flight', 'flight', 'flight_time', 'flight', 'abbreviation', 'flight', 'flight', 'flight', 'flight_time', 'aircraft', 'flight', 'airfare', 'flight', 'ground_service', 'flight', 'flight', 'abbreviation', 'flight', 'airline', 'airfare', 'flight', 'flight', 'flight', 'flight', 'aircraft', 'flight', 'airfare', 'flight', 'flight', 'airfare', 'flight', 'ground_service', 'flight', 'flight', 'flight', 'flight', 'flight', 'flight', 'flight', 'flight', 'flight', 'flight', 'ground_service', 'flight', 'airfare', 'flight', 'flight', 'flight', 'flight', 'flight', 'flight', 'flight', 'flight', 'flight', 'ground_service', 'flight', 'airfare', 'flight+airfare', 'flight', 'flight', 'aircraft', 'ground_service', 'flight', 'flight', 'flight', 'flight', 'flight', 'flight', 'airfare', 'flight', 'airport', 'flight', 'flight', 'flight', 'flight_time', 'airfare', 'ground_service', 'flight', 'flight', 'flight', 'flight', 'flight', 'flight', 'flight', 'flight', 'flight', 'capacity', 'flight', 'flight', 'flight', 'flight', 'airfare', 'flight', 'flight', 'flight', 'ground_service', 'flight', 'flight', 'flight', 'flight', 'flight', 'airline', 'airfare', 'flight', 'flight', 'flight', 'airport', 'flight', 'airline', 'flight', 'flight', 'flight', 'flight', 'airfare', 'flight', 'airfare', 'airfare', 'airfare', 'flight', 'flight', 'flight', 'flight', 'flight', 'flight', 'airfare', 'ground_service', 'flight', 'quantity', 'flight', 'flight', 'ground_service', 'flight', 'flight', 'abbreviation', 'flight', 'flight', 'ground_service', 'flight', 'flight', 'flight', 'flight', 'flight', 'flight', 'flight', 'airfare', 'flight', 'flight', 'airfare', 'flight', 'flight', 'flight', 'abbreviation', 'flight', 'flight', 'flight', 'flight', 'flight', 'ground_service', 'airfare', 'airfare', 'flight', 'flight', 'flight', 'flight', 'flight', 'flight', 'flight', 'aircraft', 'flight', 'flight', 'ground_service', 'flight', 'flight', 'flight', 'flight', 'airfare', 'flight', 'aircraft', 'flight', 'airfare', 'flight', 'flight', 'flight', 'flight_time', 'flight', 'flight', 'airfare', 'flight', 'flight', 'aircraft+flight+flight_no', 'city', 'flight', 'flight', 'abbreviation', 'flight', 'flight', 'flight', 'flight', 'flight', 'flight', 'flight', 'city', 'flight', 'ground_service', 'flight', 'flight', 'flight', 'flight', 'flight', 'flight', 'ground_service', 'flight', 'flight', 'flight', 'flight', 'flight', 'airline', 'flight', 'flight', 'flight', 'flight', 'flight', 'flight', 'ground_service', 'flight', 'flight', 'flight', 'airline', 'flight', 'airfare', 'flight', 'flight', 'airline', 'airfare', 'flight', 'flight', 'flight', 'flight', 'flight', 'city', 'flight', 'airfare', 'flight', 'flight', 'flight', 'flight', 'airfare', 'flight', 'flight', 'aircraft', 'flight', 'flight', 'flight', 'flight', 'flight_no', 'flight', 'ground_service', 'flight', 'flight', 'flight', 'flight', 'airfare', 'airfare', 'flight', 'ground_service', 'flight', 'flight', 'flight', 'flight', 'airfare', 'flight', 'flight', 'flight', 'flight', 'flight', 'flight', 'flight', 'airfare', 'flight', 'airfare', 'flight', 'flight', 'flight+airfare', 'flight', 'abbreviation', 'flight', 'flight', 'flight', 'flight', 'flight', 'ground_service', 'flight', 'flight', 'airfare', 'airfare', 'flight', 'flight', 'flight', 'flight', 'airfare', 'flight', 'flight', 'flight', 'flight', 'flight', 'airfare', 'flight', 'flight', 'abbreviation', 'flight', 'flight', 'flight', 'flight', 'flight', 'flight', 'flight', 'flight', 'flight', 'flight', 'flight', 'flight', 'airline', 'flight', 'abbreviation', 'flight', 'flight', 'flight', 'flight', 'flight', 'flight', 'flight', 'flight', 'flight', 'flight', 'flight', 'flight', 'flight', 'flight', 'flight', 'flight', 'flight', 'flight', 'flight', 'ground_service', 'airfare', 'flight', 'flight', 'flight', 'flight', 'flight', 'flight', 'city', 'flight', 'flight', 'flight', 'flight', 'flight', 'aircraft', 'flight', 'flight', 'flight', 'flight', 'airline', 'airfare', 'flight', 'flight', 'airfare', 'flight_time', 'abbreviation', 'flight', 'flight', 'flight', 'flight', 'flight', 'flight', 'flight', 'flight', 'flight', 'flight', 'flight', 'ground_service', 'flight', 'airline', 'flight', 'flight', 'flight', 'flight', 'abbreviation', 'flight']\n",
      "\n",
      "Encoded labels: [12 12 15 ... 12  0 12] \n",
      "\n"
     ]
    }
   ],
   "source": [
    "# Això ja no te a veure amb el vocab i no el tokenitzador: no hem de fer 3 versions\n",
    "\n",
    "label_encoder = LabelEncoder()\n",
    "train_numerical_labels = label_encoder.fit_transform(train_labels)\n",
    "\n",
    "# Estem fent One-hot encoding dels labels osigui de les intencions que l'usuari pot tenir\n",
    "print(f'Original labels: {train_labels}\\n')\n",
    "print(f'Encoded labels: {train_numerical_labels} \\n')"
   ]
  },
  {
   "cell_type": "code",
   "execution_count": 134,
   "metadata": {},
   "outputs": [
    {
     "name": "stdout",
     "output_type": "stream",
     "text": [
      "Example: \n",
      "\n",
      "Original label: flight\n",
      "\n",
      "Numerical label: 12\n",
      "\n",
      "One-hot: [0. 0. 0. 0. 0. 0. 0. 0. 0. 0. 0. 0. 1. 0. 0. 0. 0. 0. 0. 0. 0. 0.]\n",
      "\n"
     ]
    }
   ],
   "source": [
    "num_classes_lem = len(np.unique(train_numerical_labels))\n",
    "train_encoded_labels = to_categorical(train_numerical_labels, num_classes)\n",
    "\n",
    "print('Example: \\n')\n",
    "print(f'Original label: {train_labels[0]}\\n')\n",
    "print(f'Numerical label: {train_numerical_labels[0]}\\n')\n",
    "print(f'One-hot: {train_encoded_labels[0]}\\n')"
   ]
  },
  {
   "cell_type": "markdown",
   "metadata": {
    "id": "Sup3vzTkNg0q"
   },
   "source": [
    "---\n",
    "\n",
    " <h1><a name=\"ex-three\"><center> ✏ Exercici 3 ✏</a></h1>"
   ]
  },
  {
   "cell_type": "markdown",
   "metadata": {
    "id": "n3Rpxi7PNjB3"
   },
   "source": [
    "Amb la partició de validació i test haurem de realitzar els mateixos passos. Per tant, en aquest exercici us demanem que obtingueu `val_pad_sequences`, `val_encoded_labels`, `test_pad_sequences` i `test_encoded_labels`."
   ]
  },
  {
   "cell_type": "code",
   "execution_count": 135,
   "metadata": {},
   "outputs": [],
   "source": [
    "val_sentences = list(val_data[0])\n",
    "test_sentences = list(test_data[0])\n",
    "\n",
    "# Aplicar el stemming a todas las oraciones de validación y prueba (val y test)\n",
    "val_sentences_stem = [stem_sentence(sentence) for sentence in val_sentences]\n",
    "test_sentences_stem = [stem_sentence(sentence) for sentence in test_sentences]\n",
    "\n",
    "val_sequences_stem = stem_tokenizer.texts_to_sequences(val_sentences_stem)  # Aplicar stemming y convertir a secuencias\n",
    "test_sequences_stem = stem_tokenizer.texts_to_sequences(test_sentences_stem)  # Hacer lo mismo con el test\n",
    "\n",
    "# Padding de las secuencias para validación y test\n",
    "val_pad_sequences_stem = pad_sequences(val_sequences_stem, maxlen=max_sequence_length_stem, padding='post')\n",
    "test_pad_sequences_stem = pad_sequences(test_sequences_stem, maxlen=max_sequence_length_stem, padding='post')\n"
   ]
  },
  {
   "cell_type": "code",
   "execution_count": 136,
   "metadata": {
    "id": "Z0MIvWt6nre2"
   },
   "outputs": [],
   "source": [
    "# Les etiquetes de moment són iguals per norm, lem i stem \n",
    "val_labels = list(val_data[2])\n",
    "val_labels = list(s.replace('\"', '') for s in val_data[2]) \n",
    "val_labels = list(s.replace(' ', '') for s in val_labels)\n",
    "\n",
    "test_labels = list(test_data[2])\n",
    "test_labels = list(s.replace('\"', '') for s in test_data[2]) \n",
    "test_labels = list(s.replace(' ', '') for s in test_labels)"
   ]
  },
  {
   "cell_type": "code",
   "execution_count": 137,
   "metadata": {},
   "outputs": [],
   "source": [
    "def remove_values_and_indices(input_list, values_to_remove, other_list):\n",
    "    indices_to_remove = [idx for idx, item in enumerate(input_list) if item in values_to_remove]\n",
    "    cleaned_input_list = [item for idx, item in enumerate(input_list) if idx not in indices_to_remove]\n",
    "    cleaned_other_list = [item for idx, item in enumerate(other_list) if idx not in indices_to_remove]\n",
    "    return cleaned_input_list, np.array(cleaned_other_list)\n",
    "\n",
    "values_to_remove = ['day_name', 'airfare+flight', 'flight+airline', 'flight_no+airline']"
   ]
  },
  {
   "cell_type": "code",
   "execution_count": 138,
   "metadata": {},
   "outputs": [
    {
     "name": "stdout",
     "output_type": "stream",
     "text": [
      "(888, 45)\n",
      "(888, 22)\n"
     ]
    }
   ],
   "source": [
    "test_labels, test_pad_sequences_stem = remove_values_and_indices(test_labels, values_to_remove, test_pad_sequences_stem)\n",
    "\n",
    "assert len(test_labels) == len(test_pad_sequences_stem), \"La longitud de test_labels y test_pad_sequences_lem no coincide\"\n",
    "\n",
    "# Convertir las etiquetas de test a valores numéricos y one-hot encoding\n",
    "test_numerical_labels = label_encoder.transform(test_labels)\n",
    "test_encoded_labels = to_categorical(test_numerical_labels, num_classes)\n",
    "\n",
    "assert test_pad_sequences_stem.shape[0] == test_encoded_labels.shape[0], \"Las formas de test_pad_sequences_lem y test_encoded_labels no coinciden\"\n",
    "\n",
    "print(test_pad_sequences_stem.shape)\n",
    "print(test_encoded_labels.shape)"
   ]
  },
  {
   "cell_type": "code",
   "execution_count": 139,
   "metadata": {},
   "outputs": [],
   "source": [
    "val_labels_stem, val_pad_sequences_stem = remove_values_and_indices(val_labels, values_to_remove, val_pad_sequences_stem)\n",
    "test_labels_stem, test_pad_sequences_stem = remove_values_and_indices(test_labels, values_to_remove, test_pad_sequences_stem)"
   ]
  },
  {
   "cell_type": "code",
   "execution_count": 140,
   "metadata": {
    "id": "eDOehXO--rn7"
   },
   "outputs": [],
   "source": [
    "val_numerical_labels = label_encoder.transform(val_labels_stem)\n",
    "val_encoded_labels = to_categorical(val_numerical_labels, num_classes)"
   ]
  },
  {
   "cell_type": "code",
   "execution_count": 141,
   "metadata": {},
   "outputs": [
    {
     "name": "stdout",
     "output_type": "stream",
     "text": [
      "Example train: \n",
      "\n",
      "Original label: flight\n",
      "\n",
      "Numerical label: 12\n",
      "\n",
      "One-hot: [0. 0. 0. 0. 0. 0. 0. 0. 0. 0. 0. 0. 1. 0. 0. 0. 0. 0. 0. 0. 0. 0.]\n",
      "\n",
      "Example test: \n",
      "\n",
      "Original label: flight\n",
      "\n",
      "Numerical label: 12\n",
      "\n",
      "One-hot: [0. 0. 0. 0. 0. 0. 0. 0. 0. 0. 0. 0. 1. 0. 0. 0. 0. 0. 0. 0. 0. 0.]\n",
      "\n"
     ]
    }
   ],
   "source": [
    "print('Example train: \\n')\n",
    "print(f'Original label: {val_labels[0]}\\n')\n",
    "print(f'Numerical label: {val_numerical_labels[0]}\\n')\n",
    "print(f'One-hot: {val_encoded_labels[0]}\\n')\n",
    "\n",
    "print('Example test: \\n')\n",
    "print(f'Original label: {test_labels[0]}\\n')\n",
    "print(f'Numerical label: {test_numerical_labels[0]}\\n')\n",
    "print(f'One-hot: {test_encoded_labels[0]}\\n')"
   ]
  },
  {
   "cell_type": "markdown",
   "metadata": {
    "id": "5iS0Z1mbOZcM"
   },
   "source": [
    "---"
   ]
  },
  {
   "cell_type": "markdown",
   "metadata": {
    "id": "8Rddmu0bM0PI"
   },
   "source": [
    "<h1><a name=\"section-three\"> 3. Disseny del model i entrenament </a></h1>"
   ]
  },
  {
   "cell_type": "markdown",
   "metadata": {
    "id": "o3mi1pL38yU4"
   },
   "source": [
    "En primer lloc, anem a comprovar si hi ha GPUs disponibles. A continuació si hi ha GPUs disponibles el codi assegurarà que *TensorFlow* només assigne memòria GPU quan siga necessari."
   ]
  },
  {
   "cell_type": "code",
   "execution_count": 142,
   "metadata": {
    "id": "4Dx4NjOc6PYx",
    "outputId": "7244a3ac-3428-43c8-9ef7-771f53462ccd"
   },
   "outputs": [
    {
     "name": "stdout",
     "output_type": "stream",
     "text": [
      "GPU is not available. The model will be trained on CPU.\n"
     ]
    }
   ],
   "source": [
    "if tf.config.list_physical_devices('GPU'):\n",
    "    print(\"GPU is available!\")\n",
    "else:\n",
    "    print(\"GPU is not available. The model will be trained on CPU.\")\n",
    "\n",
    "gpus = tf.config.experimental.list_physical_devices('GPU')\n",
    "if gpus:\n",
    "    try:\n",
    "        for gpu in gpus:\n",
    "            tf.config.experimental.set_memory_growth(gpu, True)\n",
    "    except RuntimeError as e:\n",
    "        print(e)"
   ]
  },
  {
   "cell_type": "markdown",
   "metadata": {
    "id": "0CPFNkeCKSVl"
   },
   "source": [
    "---\n",
    "\n",
    " <h1><a name=\"ex-four\"><center> ✏ Exercici 4 ✏</a></h1>"
   ]
  },
  {
   "cell_type": "markdown",
   "metadata": {
    "id": "woZEkupw0LAB"
   },
   "source": [
    "En aquest exercici haureu de dissenyar l'arquitectura del model. El nostre model tindrà quatre capes:\n",
    "\n",
    "1. La primera capa serà un **embedding**. Aquesta capa permetrà convertir les dades de text d'entrada, en vectors densos amb una mida fixa (*embedding_dim*). Aquesta representació més compacta permetrà per una part capturar la informació semàntica del text d'entrada, permetent així generalitzar millor i comprendre les relacions entre les paraules. I, per una altra banda, reduir la complexitat computacional, accelerant així el temps d'entrenament i inferència. En resum, aquesta capa assignarà a cada índex de cada paraula un vector dens de mida *embedding_dim*.\n",
    "\n",
    "2. La segona capa serà un **pooling** layer. L'entrada d'aquesta capa serà un tensor 3D (*batch_size*, *sequence_length*, *embedding_dim*). Aquesta capa es centrarà a capturar la informació més important de la seqüència d'entrada, és a dir, prendrà el valor màxim de la seqüència, donant lloc a un tensor 2D (batch_size, embedding_dim).\n",
    "\n",
    "3. La tercera capa serà una capa **densa**. És a dir, una capa completament connectada (*fully-connected*): cada neurona d'aquesta capa estarà connectada a totes les neurones de la capa anterior. La funció d'activació que utilitzarem serà una ReLU. Aquesta funció introdueix una no-linealitat al model permetent així aprendre relacions complexes en les dades.\n",
    "\n",
    "4. L'última capa també serà una capa **densa**. En aquest cas la funció d'activació haurà de ser la funció Softmax. Aquesta funció es fa servir per a convertir els valors de la capa anterior (*logits*) en probabilitats normalitzades. El valor de cada element de sortida representarà la probabilitat que l'entrada pertanya a una classe específica.\n",
    "\n",
    "\n",
    "📢  Les capes que haureu de fer servir les podreu trobar [aquí](https://www.tensorflow.org/api_docs/python/tf/keras/layers).\n",
    "\n",
    "\n",
    "\n"
   ]
  },
  {
   "cell_type": "code",
   "execution_count": 143,
   "metadata": {},
   "outputs": [
    {
     "name": "stdout",
     "output_type": "stream",
     "text": [
      "Shape of train_pad_sequences_stem: (4078, 45)\n",
      "Shape of train_encoded_labels: (4078, 22)\n",
      "Shape of val_pad_sequences_stem: (900, 45)\n",
      "Shape of val_encoded_labels: (900, 22)\n"
     ]
    }
   ],
   "source": [
    "# Example function to simulate the printing of key data shapes\n",
    "def check_data_shapes(train_pad_sequences_stem, train_encoded_labels, val_pad_sequences_stem, val_encoded_labels):\n",
    "    print(f\"Shape of train_pad_sequences_stem: {np.shape(train_pad_sequences_stem)}\")\n",
    "    print(f\"Shape of train_encoded_labels: {np.shape(train_encoded_labels)}\")\n",
    "    print(f\"Shape of val_pad_sequences_stem: {np.shape(val_pad_sequences_stem)}\")\n",
    "    print(f\"Shape of val_encoded_labels: {np.shape(val_encoded_labels)}\")\n",
    "check_data_shapes(train_pad_sequences_stem, train_encoded_labels, val_pad_sequences_stem, val_encoded_labels)"
   ]
  },
  {
   "cell_type": "code",
   "execution_count": null,
   "metadata": {},
   "outputs": [
    {
     "name": "stdout",
     "output_type": "stream",
     "text": [
      "\n",
      "Experimentando con Dropout de 0.2:\n",
      "\n",
      "Epoch 1/4\n"
     ]
    },
    {
     "name": "stderr",
     "output_type": "stream",
     "text": [
      "c:\\Python312\\Lib\\site-packages\\keras\\src\\layers\\core\\embedding.py:90: UserWarning: Argument `input_length` is deprecated. Just remove it.\n",
      "  warnings.warn(\n"
     ]
    },
    {
     "name": "stdout",
     "output_type": "stream",
     "text": [
      "\u001b[1m255/255\u001b[0m \u001b[32m━━━━━━━━━━━━━━━━━━━━\u001b[0m\u001b[37m\u001b[0m \u001b[1m7s\u001b[0m 16ms/step - accuracy: 0.7080 - loss: 1.5081 - val_accuracy: 0.7144 - val_loss: 0.9324\n",
      "Epoch 2/4\n",
      "\u001b[1m255/255\u001b[0m \u001b[32m━━━━━━━━━━━━━━━━━━━━\u001b[0m\u001b[37m\u001b[0m \u001b[1m4s\u001b[0m 17ms/step - accuracy: 0.7899 - loss: 0.7182 - val_accuracy: 0.9033 - val_loss: 0.4674\n",
      "Epoch 3/4\n",
      "\u001b[1m255/255\u001b[0m \u001b[32m━━━━━━━━━━━━━━━━━━━━\u001b[0m\u001b[37m\u001b[0m \u001b[1m8s\u001b[0m 29ms/step - accuracy: 0.9017 - loss: 0.3878 - val_accuracy: 0.9211 - val_loss: 0.3238\n",
      "Epoch 4/4\n",
      "\u001b[1m255/255\u001b[0m \u001b[32m━━━━━━━━━━━━━━━━━━━━\u001b[0m\u001b[37m\u001b[0m \u001b[1m4s\u001b[0m 17ms/step - accuracy: 0.9480 - loss: 0.2136 - val_accuracy: 0.9556 - val_loss: 0.2321\n",
      "\u001b[1m56/56\u001b[0m \u001b[32m━━━━━━━━━━━━━━━━━━━━\u001b[0m\u001b[37m\u001b[0m \u001b[1m0s\u001b[0m 6ms/step - accuracy: 0.9130 - loss: 0.2973\n",
      "Test accuracy con Dropout de 0.2: 0.89\n",
      "\n",
      "Experimentando con Dropout de 0.3:\n",
      "\n",
      "Epoch 1/4\n",
      "\u001b[1m255/255\u001b[0m \u001b[32m━━━━━━━━━━━━━━━━━━━━\u001b[0m\u001b[37m\u001b[0m \u001b[1m9s\u001b[0m 23ms/step - accuracy: 0.7250 - loss: 1.4493 - val_accuracy: 0.7144 - val_loss: 1.2321\n",
      "Epoch 2/4\n",
      "\u001b[1m255/255\u001b[0m \u001b[32m━━━━━━━━━━━━━━━━━━━━\u001b[0m\u001b[37m\u001b[0m \u001b[1m6s\u001b[0m 23ms/step - accuracy: 0.7451 - loss: 1.1162 - val_accuracy: 0.7967 - val_loss: 0.7606\n",
      "Epoch 3/4\n",
      "\u001b[1m255/255\u001b[0m \u001b[32m━━━━━━━━━━━━━━━━━━━━\u001b[0m\u001b[37m\u001b[0m \u001b[1m5s\u001b[0m 21ms/step - accuracy: 0.8037 - loss: 0.6756 - val_accuracy: 0.8800 - val_loss: 0.5792\n",
      "Epoch 4/4\n",
      "\u001b[1m255/255\u001b[0m \u001b[32m━━━━━━━━━━━━━━━━━━━━\u001b[0m\u001b[37m\u001b[0m \u001b[1m5s\u001b[0m 18ms/step - accuracy: 0.8716 - loss: 0.4834 - val_accuracy: 0.9156 - val_loss: 0.3749\n",
      "\u001b[1m56/56\u001b[0m \u001b[32m━━━━━━━━━━━━━━━━━━━━\u001b[0m\u001b[37m\u001b[0m \u001b[1m0s\u001b[0m 5ms/step - accuracy: 0.8817 - loss: 0.5453\n",
      "Test accuracy con Dropout de 0.3: 0.84\n",
      "\n",
      "Experimentando con Dropout de 0.4:\n",
      "\n",
      "Epoch 1/4\n",
      "\u001b[1m255/255\u001b[0m \u001b[32m━━━━━━━━━━━━━━━━━━━━\u001b[0m\u001b[37m\u001b[0m \u001b[1m7s\u001b[0m 17ms/step - accuracy: 0.6814 - loss: 1.5423 - val_accuracy: 0.7144 - val_loss: 1.1918\n",
      "Epoch 2/4\n",
      "\u001b[1m255/255\u001b[0m \u001b[32m━━━━━━━━━━━━━━━━━━━━\u001b[0m\u001b[37m\u001b[0m \u001b[1m4s\u001b[0m 16ms/step - accuracy: 0.7492 - loss: 1.0825 - val_accuracy: 0.8500 - val_loss: 0.7058\n",
      "Epoch 3/4\n",
      "\u001b[1m255/255\u001b[0m \u001b[32m━━━━━━━━━━━━━━━━━━━━\u001b[0m\u001b[37m\u001b[0m \u001b[1m5s\u001b[0m 21ms/step - accuracy: 0.8544 - loss: 0.5612 - val_accuracy: 0.8900 - val_loss: 0.4191\n",
      "Epoch 4/4\n",
      "\u001b[1m255/255\u001b[0m \u001b[32m━━━━━━━━━━━━━━━━━━━━\u001b[0m\u001b[37m\u001b[0m \u001b[1m10s\u001b[0m 38ms/step - accuracy: 0.9002 - loss: 0.3693 - val_accuracy: 0.9333 - val_loss: 0.3236\n",
      "\u001b[1m56/56\u001b[0m \u001b[32m━━━━━━━━━━━━━━━━━━━━\u001b[0m\u001b[37m\u001b[0m \u001b[1m1s\u001b[0m 12ms/step - accuracy: 0.8959 - loss: 0.4594\n",
      "Test accuracy con Dropout de 0.4: 0.87\n",
      "\n",
      "Experimentando con Dropout de 0.5:\n",
      "\n",
      "Epoch 1/4\n",
      "\u001b[1m255/255\u001b[0m \u001b[32m━━━━━━━━━━━━━━━━━━━━\u001b[0m\u001b[37m\u001b[0m \u001b[1m17s\u001b[0m 42ms/step - accuracy: 0.7227 - loss: 1.4895 - val_accuracy: 0.7144 - val_loss: 1.2197\n",
      "Epoch 2/4\n",
      "\u001b[1m255/255\u001b[0m \u001b[32m━━━━━━━━━━━━━━━━━━━━\u001b[0m\u001b[37m\u001b[0m \u001b[1m10s\u001b[0m 38ms/step - accuracy: 0.7287 - loss: 1.1824 - val_accuracy: 0.7144 - val_loss: 1.1980\n",
      "Epoch 3/4\n",
      "\u001b[1m255/255\u001b[0m \u001b[32m━━━━━━━━━━━━━━━━━━━━\u001b[0m\u001b[37m\u001b[0m \u001b[1m8s\u001b[0m 29ms/step - accuracy: 0.7550 - loss: 1.1080 - val_accuracy: 0.7144 - val_loss: 1.1576\n",
      "Epoch 4/4\n",
      "\u001b[1m255/255\u001b[0m \u001b[32m━━━━━━━━━━━━━━━━━━━━\u001b[0m\u001b[37m\u001b[0m \u001b[1m4s\u001b[0m 15ms/step - accuracy: 0.7597 - loss: 0.8824 - val_accuracy: 0.7989 - val_loss: 0.6644\n",
      "\u001b[1m56/56\u001b[0m \u001b[32m━━━━━━━━━━━━━━━━━━━━\u001b[0m\u001b[37m\u001b[0m \u001b[1m0s\u001b[0m 4ms/step - accuracy: 0.8107 - loss: 0.7409\n",
      "Test accuracy con Dropout de 0.5: 0.75\n",
      "\n",
      "Experimentando con Dropout de 0.6:\n",
      "\n",
      "Epoch 1/4\n",
      "\u001b[1m255/255\u001b[0m \u001b[32m━━━━━━━━━━━━━━━━━━━━\u001b[0m\u001b[37m\u001b[0m \u001b[1m7s\u001b[0m 17ms/step - accuracy: 0.7076 - loss: 1.5204 - val_accuracy: 0.7144 - val_loss: 1.2074\n",
      "Epoch 2/4\n",
      "\u001b[1m255/255\u001b[0m \u001b[32m━━━━━━━━━━━━━━━━━━━━\u001b[0m\u001b[37m\u001b[0m \u001b[1m4s\u001b[0m 16ms/step - accuracy: 0.7300 - loss: 1.1655 - val_accuracy: 0.8278 - val_loss: 0.7724\n",
      "Epoch 3/4\n",
      "\u001b[1m255/255\u001b[0m \u001b[32m━━━━━━━━━━━━━━━━━━━━\u001b[0m\u001b[37m\u001b[0m \u001b[1m4s\u001b[0m 15ms/step - accuracy: 0.8032 - loss: 0.6834 - val_accuracy: 0.8489 - val_loss: 0.5892\n",
      "Epoch 4/4\n",
      "\u001b[1m255/255\u001b[0m \u001b[32m━━━━━━━━━━━━━━━━━━━━\u001b[0m\u001b[37m\u001b[0m \u001b[1m4s\u001b[0m 14ms/step - accuracy: 0.8630 - loss: 0.4888 - val_accuracy: 0.8678 - val_loss: 0.4419\n",
      "\u001b[1m56/56\u001b[0m \u001b[32m━━━━━━━━━━━━━━━━━━━━\u001b[0m\u001b[37m\u001b[0m \u001b[1m0s\u001b[0m 5ms/step - accuracy: 0.8384 - loss: 0.5416\n",
      "Test accuracy con Dropout de 0.6: 0.80\n"
     ]
    },
    {
     "data": {
      "image/png": "[encoded data removed]",
      "text/plain": [
       "<Figure size 1000x600 with 1 Axes>"
      ]
     },
     "metadata": {},
     "output_type": "display_data"
    }
   ],
   "source": [
    "\n",
    "embedding_dim = 300 \n",
    "vocab_size = len(stem_vocab) + 1  \n",
    "dropout_values = [0.2, 0.3, 0.4, 0.5, 0.6]  # Diferentes valores de Dropout para experimentar\n",
    "\n",
    "test_accuracies = []  # Para almacenar las precisiones de test para cada valor de Dropout\n",
    "\n",
    "# Bucle para probar diferentes valores de Dropout\n",
    "for dropout_rate in dropout_values:\n",
    "    print(f\"\\nExperimentando con Dropout de {dropout_rate}:\\n\")\n",
    "    \n",
    "    # Definición del modelo\n",
    "    model_stem = Sequential()\n",
    "    model_stem.add(Embedding(input_dim=vocab_size, output_dim=embedding_dim, input_length=max_sequence_length_stem))\n",
    "    model_stem.add(GRU(64))\n",
    "    model_stem.add(Dropout(dropout_rate))  # Capa Dropout con valor variable\n",
    "    model_stem.add(Dense(64, activation='relu'))\n",
    "    model_stem.add(Dense(num_classes, activation='softmax'))\n",
    "\n",
    "    # Compilar el modelo\n",
    "    model_stem.compile(optimizer='adam', loss='categorical_crossentropy', metrics=['accuracy'])\n",
    "\n",
    "    # Entrenar el modelo\n",
    "    batch_size = 16\n",
    "    epochs = 4\n",
    "    model_stem.fit(train_pad_sequences_stem, train_encoded_labels, batch_size=batch_size, epochs=epochs, validation_data=(val_pad_sequences_stem, val_encoded_labels))\n",
    "\n",
    "    # Evaluar el modelo en el conjunto de test\n",
    "    loss, accuracy = model_stem.evaluate(test_pad_sequences_stem, test_encoded_labels, batch_size=batch_size)\n",
    "    print(f\"Test accuracy con Dropout de {dropout_rate}: {accuracy:.2f}\")\n",
    "    test_accuracies.append(accuracy)\n",
    "\n"
   ]
  },
  {
   "cell_type": "code",
   "execution_count": null,
   "metadata": {},
   "outputs": [],
   "source": [
    "import matplotlib.pyplot as plt\n",
    "\n",
    "# Valores de Dropout y precisiones reales\n",
    "dropout_values = [0.2, 0.3, 0.4, 0.5, 0.6]\n",
    "train_accuracies = [0.9480, 0.8716, 0.9002, 0.7597, 0.8630]\n",
    "test_accuracies = [0.9130, 0.8817, 0.8959, 0.8107, 0.8384]\n",
    "\n",
    "# Crear el gráfico\n",
    "plt.figure(figsize=(10, 6))\n",
    "plt.plot(dropout_values, train_accuracies, marker='o', linestyle='-', color='blue', label='Train Accuracy')\n",
    "plt.plot(dropout_values, test_accuracies, marker='o', linestyle='-', color='orange', label='Test Accuracy')\n",
    "plt.title('Precisión de Train y Test para Diferentes Valores de Dropout (Valores Reales)')\n",
    "plt.xlabel('Dropout Rate')\n",
    "plt.ylabel('Accuracy')\n",
    "plt.legend(loc='best')\n",
    "plt.grid(True)\n",
    "plt.show()\n"
   ]
  },
  {
   "cell_type": "markdown",
   "metadata": {
    "id": "vgKO2p_jSfh6"
   },
   "source": [
    "---\n",
    "\n",
    " <h1><a name=\"ex-five\"><center> ✏ Exercici 5 ✏ </a></h1>\n",
    "\n",
    "Modifiqueu els següents paràmetres del model anterior i analitzeu com afecten a la seva *accuracy*:\n",
    "\n",
    " 1. **Preprocessament.** Modifiqueu el Tokenizer per canviar la mida del vostre vocabulari i afegiu nous passos de preprocessament. Alguns possibles canvis són canviar la mida del vocabulari, treure la capitalització o fer servir *lemmatització* o *stemming*.\n",
    "\n",
    " 2. **Mida dels Embeddings.** Proveu diferents mides d'*Embeddings* i observeu com canvia l'*accuracy* del model. Heu d'explicar les vostres conclusions.\n",
    "\n",
    " 3. **Xarxes Convolucionals.** Afegiu capes convolucionals al vostre model. Expliqueu amb detall els valors que heu provat i la vostra motivació a l'hora d'escollir-los. Recordeu, que també podeu provar diferents configuracions de *pooling*.\n",
    "\n",
    " 4. **Xarxes Recurrents.**  Afegiu capes recurrents al vostre model (LSTM, GRU). Expliqueu amb detall els valors que heu provat i la vostra motivació.\n",
    "\n",
    " 5. **Regularització.** Quan proveu configuracions amb més paràmetres veureu que el model comença a tenir *overfitting* molt prompte durant l'entrenament. Afegiu *Dropout* al vostre model. Heu d'explicar la vostra decisió de valors i de posició dins de la xarxa.\n",
    "\n",
    " 6. **Balancejat de les classes.** Si analitzeu el dataset, veureu que la freqüència de les classes està molt desbalancejada. Keras us permet afegir un pes per a cada classe a l'hora de calcular la loss (Mireu el paràmetre \"class_weigth\" a la documentació https://keras.io/api/models/model_training_apis/). Calculeu un pes per a cada classe i afegiu-lo al mètode fit del vostre model.\n",
    "\n",
    " ---"
   ]
  },
  {
   "cell_type": "markdown",
   "metadata": {
    "id": "oJL2VFSu6sce"
   },
   "source": [
    "\n",
    "<h1><a name=\"section-four\"> 4. Lliurable </a></h1>\n",
    "\n",
    "Heu d'entregar un document PDF de com a **màxim 10 pàgines** que incloga els resultats de tots els exercicis així com una explicació de cadascun dels resultats i de la modificació que heu fet. L'estructura del document és:\n",
    "\n",
    "1. Introducció.\n",
    "2. Experiments i Resultats (amb raonament).\n",
    "3. Conclusions.\n",
    "\n",
    "No cal que afegiu el vostre codi al document, podeu entregar el *notebook* juntament amb el document.\n",
    "\n",
    " ---"
   ]
  }
 ],
 "metadata": {
  "accelerator": "GPU",
  "colab": {
   "gpuType": "T4",
   "provenance": []
  },
  "kernelspec": {
   "display_name": "Python 3",
   "name": "python3"
  },
  "language_info": {
   "codemirror_mode": {
    "name": "ipython",
    "version": 3
   },
   "file_extension": ".py",
   "mimetype": "text/x-python",
   "name": "python",
   "nbconvert_exporter": "python",
   "pygments_lexer": "ipython3",
   "version": "3.12.2"
  }
 },
 "nbformat": 4,
 "nbformat_minor": 0
}
